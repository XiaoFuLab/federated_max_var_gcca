{
 "cells": [
  {
   "cell_type": "markdown",
   "id": "front-while",
   "metadata": {},
   "source": [
    "## Use spectral Clustering to compute accuracy "
   ]
  },
  {
   "cell_type": "markdown",
   "id": "continental-storm",
   "metadata": {},
   "source": [
    "### Import data"
   ]
  },
  {
   "cell_type": "code",
   "execution_count": 1,
   "id": "configured-ordinance",
   "metadata": {},
   "outputs": [
    {
     "name": "stderr",
     "output_type": "stream",
     "text": [
      "/scratch/sagar/Projects/learn/compressai/venv/lib/python3.6/site-packages/torch/nn/functional.py:3888: UserWarning: Default grid_sample and affine_grid behavior has changed to align_corners=False since 1.3.0. Please specify align_corners=True if the old behavior is desired. See the documentation of grid_sample for details.\n",
      "  \"Default grid_sample and affine_grid behavior has changed \"\n",
      "/scratch/sagar/Projects/learn/compressai/venv/lib/python3.6/site-packages/torch/nn/functional.py:3826: UserWarning: Default grid_sample and affine_grid behavior has changed to align_corners=False since 1.3.0. Please specify align_corners=True if the old behavior is desired. See the documentation of grid_sample for details.\n",
      "  \"Default grid_sample and affine_grid behavior has changed \"\n"
     ]
    }
   ],
   "source": [
    "import torch\n",
    "import matplotlib.pyplot as plt\n",
    "from models import g_step, MnistDGCCA\n",
    "from dataset import get_mnist_dataset \n",
    "import numpy as np\n",
    "from sklearn.cluster import KMeans, SpectralClustering\n",
    "from sklearn.cluster import KMeans, SpectralClustering\n",
    "\n",
    "\n",
    "test_views, test_classes = get_mnist_dataset(train=False, normalize=False)\n",
    "test_views = list(test_views)\n",
    "\n",
    "def cluster_permutation_map(cluster_labels, real_labels, n_labels=10):\n",
    "    cluster_count = []\n",
    "    for i in range(n_labels):\n",
    "        i_count = np.zeros(len(real_labels))\n",
    "        cluster_temp = cluster_labels.copy() + 1\n",
    "        \n",
    "        cluster_temp[cluster_temp!=i+1] = 0\n",
    "        cluster_temp[cluster_temp==i+1] = 1\n",
    "        for j in range(n_labels):\n",
    "            real_temp = (real_labels+1)*cluster_temp\n",
    "            real_temp[real_temp!=j+1] = 0\n",
    "            real_temp[real_temp==j+1] = 1\n",
    "            i_count[j] = real_temp.sum()\n",
    "        cluster_count.append(i_count)\n",
    "    return [np.argmax(p) for p in cluster_count]\n",
    "\n",
    "def map(cluster_labels, cluster_map, n_labels=10):\n",
    "    cluster_ind = []\n",
    "    mapped_labels = np.zeros(len(cluster_labels))\n",
    "    for i in range(n_labels):\n",
    "        cluster_ind = np.where(cluster_labels==i)\n",
    "        mapped_labels[cluster_ind] = cluster_map[i]\n",
    "    return mapped_labels\n",
    "\n",
    "def delta_sum(mapped_labels, real_labels):\n",
    "    a = mapped_labels - real_labels\n",
    "    a[a!=0] = 1\n",
    "    return len(mapped_labels) - a.sum()\n",
    "\n",
    "def get_latent_repr(model_path, input_data):\n",
    "    model = torch.load(model_path)\n",
    "    out = torch.stack(model(input_data))\n",
    "    return g_step(out.clone().detach())"
   ]
  },
  {
   "cell_type": "code",
   "execution_count": 4,
   "id": "furnished-minimum",
   "metadata": {},
   "outputs": [
    {
     "data": {
      "text/plain": [
       "0.862"
      ]
     },
     "execution_count": 4,
     "metadata": {},
     "output_type": "execute_result"
    }
   ],
   "source": [
    "DGCCA_LINEAR_MNIST_PATH = 'trained_models/dgcca_mnist_linearBN11_innerit1.model'\n",
    "G_linear_mnist = get_latent_repr(DGCCA_LINEAR_MNIST_PATH, test_views)\n",
    "pred_linear_mnist = SpectralClustering(n_clusters=10, gamma=5, random_state=150).fit_predict(G_linear_mnist[:3000])\n",
    "\n",
    "cluster_map = cluster_permutation_map(pred_linear_mnist, test_classes[:3000].numpy())\n",
    "mapped_labels = map(pred_linear_mnist, cluster_map)\n",
    "acc_linear_mnist = delta_sum(mapped_labels, test_classes[:3000].numpy())/ len(pred_linear_mnist)\n",
    "\n",
    "acc_linear_mnist"
   ]
  },
  {
   "cell_type": "markdown",
   "id": "cosmetic-reward",
   "metadata": {},
   "source": [
    "## Linear GCCA"
   ]
  },
  {
   "cell_type": "code",
   "execution_count": 11,
   "id": "neutral-jamaica",
   "metadata": {},
   "outputs": [
    {
     "name": "stderr",
     "output_type": "stream",
     "text": [
      "/scratch/sagar/Projects/learn/compressai/venv/lib/python3.6/site-packages/torch/nn/functional.py:3888: UserWarning: Default grid_sample and affine_grid behavior has changed to align_corners=False since 1.3.0. Please specify align_corners=True if the old behavior is desired. See the documentation of grid_sample for details.\n",
      "  \"Default grid_sample and affine_grid behavior has changed \"\n",
      "/scratch/sagar/Projects/learn/compressai/venv/lib/python3.6/site-packages/torch/nn/functional.py:3826: UserWarning: Default grid_sample and affine_grid behavior has changed to align_corners=False since 1.3.0. Please specify align_corners=True if the old behavior is desired. See the documentation of grid_sample for details.\n",
      "  \"Default grid_sample and affine_grid behavior has changed \"\n"
     ]
    },
    {
     "data": {
      "text/plain": [
       "0.963"
      ]
     },
     "execution_count": 11,
     "metadata": {},
     "output_type": "execute_result"
    }
   ],
   "source": [
    "train_views, train_classes = get_mnist_dataset(train=True, normalize=False)\n",
    "train_views = list(train_views)\n",
    "\n",
    "import scipy.io as sio\n",
    "data = sio.loadmat('/scratch/sagar/Projects/federated_max_var_gcca/PAMI_sim/synthetic_large/data/results/mnist_gcca.mat')\n",
    "\n",
    "G = data['G']\n",
    "\n",
    "pred = SpectralClustering(n_clusters=10, gamma=5, random_state=150).fit_predict(G[:3000])\n",
    "\n",
    "cluster_map = cluster_permutation_map(pred, train_classes[:3000].numpy())\n",
    "mapped_labels = map(pred, cluster_map)\n",
    "acc = delta_sum(mapped_labels, train_classes[:3000].numpy())/ len(pred)\n",
    "\n",
    "acc"
   ]
  },
  {
   "cell_type": "code",
   "execution_count": 15,
   "id": "composite-distinction",
   "metadata": {},
   "outputs": [
    {
     "ename": "KeyboardInterrupt",
     "evalue": "",
     "output_type": "error",
     "traceback": [
      "\u001b[0;31m---------------------------------------------------------------------------\u001b[0m",
      "\u001b[0;31mKeyboardInterrupt\u001b[0m                         Traceback (most recent call last)",
      "\u001b[0;32m<ipython-input-15-c5639791267a>\u001b[0m in \u001b[0;36m<module>\u001b[0;34m\u001b[0m\n\u001b[1;32m      6\u001b[0m \u001b[0mG\u001b[0m \u001b[0;34m=\u001b[0m \u001b[0mpca\u001b[0m\u001b[0;34m.\u001b[0m\u001b[0mfit_transform\u001b[0m\u001b[0;34m(\u001b[0m\u001b[0mX\u001b[0m\u001b[0;34m[\u001b[0m\u001b[0;34m:\u001b[0m\u001b[0;36m5000\u001b[0m\u001b[0;34m]\u001b[0m\u001b[0;34m)\u001b[0m\u001b[0;34m\u001b[0m\u001b[0;34m\u001b[0m\u001b[0m\n\u001b[1;32m      7\u001b[0m \u001b[0;34m\u001b[0m\u001b[0m\n\u001b[0;32m----> 8\u001b[0;31m \u001b[0mpred\u001b[0m \u001b[0;34m=\u001b[0m \u001b[0mSpectralClustering\u001b[0m\u001b[0;34m(\u001b[0m\u001b[0mn_clusters\u001b[0m\u001b[0;34m=\u001b[0m\u001b[0;36m10\u001b[0m\u001b[0;34m,\u001b[0m \u001b[0mgamma\u001b[0m\u001b[0;34m=\u001b[0m\u001b[0;36m5\u001b[0m\u001b[0;34m,\u001b[0m \u001b[0mrandom_state\u001b[0m\u001b[0;34m=\u001b[0m\u001b[0;36m150\u001b[0m\u001b[0;34m)\u001b[0m\u001b[0;34m.\u001b[0m\u001b[0mfit_predict\u001b[0m\u001b[0;34m(\u001b[0m\u001b[0mG\u001b[0m\u001b[0;34m[\u001b[0m\u001b[0;34m:\u001b[0m\u001b[0;36m3000\u001b[0m\u001b[0;34m]\u001b[0m\u001b[0;34m)\u001b[0m\u001b[0;34m\u001b[0m\u001b[0;34m\u001b[0m\u001b[0m\n\u001b[0m\u001b[1;32m      9\u001b[0m \u001b[0;34m\u001b[0m\u001b[0m\n\u001b[1;32m     10\u001b[0m \u001b[0mcluster_map\u001b[0m \u001b[0;34m=\u001b[0m \u001b[0mcluster_permutation_map\u001b[0m\u001b[0;34m(\u001b[0m\u001b[0mpred\u001b[0m\u001b[0;34m,\u001b[0m \u001b[0mtrain_classes\u001b[0m\u001b[0;34m[\u001b[0m\u001b[0;34m:\u001b[0m\u001b[0;36m3000\u001b[0m\u001b[0;34m]\u001b[0m\u001b[0;34m.\u001b[0m\u001b[0mnumpy\u001b[0m\u001b[0;34m(\u001b[0m\u001b[0;34m)\u001b[0m\u001b[0;34m)\u001b[0m\u001b[0;34m\u001b[0m\u001b[0;34m\u001b[0m\u001b[0m\n",
      "\u001b[0;32m/scratch/sagar/Projects/learn/compressai/venv/lib/python3.6/site-packages/sklearn/cluster/_spectral.py\u001b[0m in \u001b[0;36mfit_predict\u001b[0;34m(self, X, y)\u001b[0m\n\u001b[1;32m    570\u001b[0m             \u001b[0mCluster\u001b[0m \u001b[0mlabels\u001b[0m\u001b[0;34m.\u001b[0m\u001b[0;34m\u001b[0m\u001b[0;34m\u001b[0m\u001b[0m\n\u001b[1;32m    571\u001b[0m         \"\"\"\n\u001b[0;32m--> 572\u001b[0;31m         \u001b[0;32mreturn\u001b[0m \u001b[0msuper\u001b[0m\u001b[0;34m(\u001b[0m\u001b[0;34m)\u001b[0m\u001b[0;34m.\u001b[0m\u001b[0mfit_predict\u001b[0m\u001b[0;34m(\u001b[0m\u001b[0mX\u001b[0m\u001b[0;34m,\u001b[0m \u001b[0my\u001b[0m\u001b[0;34m)\u001b[0m\u001b[0;34m\u001b[0m\u001b[0;34m\u001b[0m\u001b[0m\n\u001b[0m\u001b[1;32m    573\u001b[0m \u001b[0;34m\u001b[0m\u001b[0m\n\u001b[1;32m    574\u001b[0m     \u001b[0;32mdef\u001b[0m \u001b[0m_more_tags\u001b[0m\u001b[0;34m(\u001b[0m\u001b[0mself\u001b[0m\u001b[0;34m)\u001b[0m\u001b[0;34m:\u001b[0m\u001b[0;34m\u001b[0m\u001b[0;34m\u001b[0m\u001b[0m\n",
      "\u001b[0;32m/scratch/sagar/Projects/learn/compressai/venv/lib/python3.6/site-packages/sklearn/base.py\u001b[0m in \u001b[0;36mfit_predict\u001b[0;34m(self, X, y)\u001b[0m\n\u001b[1;32m    581\u001b[0m         \u001b[0;31m# non-optimized default implementation; override when a better\u001b[0m\u001b[0;34m\u001b[0m\u001b[0;34m\u001b[0m\u001b[0;34m\u001b[0m\u001b[0m\n\u001b[1;32m    582\u001b[0m         \u001b[0;31m# method is possible for a given clustering algorithm\u001b[0m\u001b[0;34m\u001b[0m\u001b[0;34m\u001b[0m\u001b[0;34m\u001b[0m\u001b[0m\n\u001b[0;32m--> 583\u001b[0;31m         \u001b[0mself\u001b[0m\u001b[0;34m.\u001b[0m\u001b[0mfit\u001b[0m\u001b[0;34m(\u001b[0m\u001b[0mX\u001b[0m\u001b[0;34m)\u001b[0m\u001b[0;34m\u001b[0m\u001b[0;34m\u001b[0m\u001b[0m\n\u001b[0m\u001b[1;32m    584\u001b[0m         \u001b[0;32mreturn\u001b[0m \u001b[0mself\u001b[0m\u001b[0;34m.\u001b[0m\u001b[0mlabels_\u001b[0m\u001b[0;34m\u001b[0m\u001b[0;34m\u001b[0m\u001b[0m\n\u001b[1;32m    585\u001b[0m \u001b[0;34m\u001b[0m\u001b[0m\n",
      "\u001b[0;32m/scratch/sagar/Projects/learn/compressai/venv/lib/python3.6/site-packages/sklearn/cluster/_spectral.py\u001b[0m in \u001b[0;36mfit\u001b[0;34m(self, X, y)\u001b[0m\n\u001b[1;32m    544\u001b[0m                                            \u001b[0meigen_tol\u001b[0m\u001b[0;34m=\u001b[0m\u001b[0mself\u001b[0m\u001b[0;34m.\u001b[0m\u001b[0meigen_tol\u001b[0m\u001b[0;34m,\u001b[0m\u001b[0;34m\u001b[0m\u001b[0;34m\u001b[0m\u001b[0m\n\u001b[1;32m    545\u001b[0m                                            \u001b[0massign_labels\u001b[0m\u001b[0;34m=\u001b[0m\u001b[0mself\u001b[0m\u001b[0;34m.\u001b[0m\u001b[0massign_labels\u001b[0m\u001b[0;34m,\u001b[0m\u001b[0;34m\u001b[0m\u001b[0;34m\u001b[0m\u001b[0m\n\u001b[0;32m--> 546\u001b[0;31m                                            verbose=self.verbose)\n\u001b[0m\u001b[1;32m    547\u001b[0m         \u001b[0;32mreturn\u001b[0m \u001b[0mself\u001b[0m\u001b[0;34m\u001b[0m\u001b[0;34m\u001b[0m\u001b[0m\n\u001b[1;32m    548\u001b[0m \u001b[0;34m\u001b[0m\u001b[0m\n",
      "\u001b[0;32m/scratch/sagar/Projects/learn/compressai/venv/lib/python3.6/site-packages/sklearn/utils/validation.py\u001b[0m in \u001b[0;36minner_f\u001b[0;34m(*args, **kwargs)\u001b[0m\n\u001b[1;32m     61\u001b[0m             \u001b[0mextra_args\u001b[0m \u001b[0;34m=\u001b[0m \u001b[0mlen\u001b[0m\u001b[0;34m(\u001b[0m\u001b[0margs\u001b[0m\u001b[0;34m)\u001b[0m \u001b[0;34m-\u001b[0m \u001b[0mlen\u001b[0m\u001b[0;34m(\u001b[0m\u001b[0mall_args\u001b[0m\u001b[0;34m)\u001b[0m\u001b[0;34m\u001b[0m\u001b[0;34m\u001b[0m\u001b[0m\n\u001b[1;32m     62\u001b[0m             \u001b[0;32mif\u001b[0m \u001b[0mextra_args\u001b[0m \u001b[0;34m<=\u001b[0m \u001b[0;36m0\u001b[0m\u001b[0;34m:\u001b[0m\u001b[0;34m\u001b[0m\u001b[0;34m\u001b[0m\u001b[0m\n\u001b[0;32m---> 63\u001b[0;31m                 \u001b[0;32mreturn\u001b[0m \u001b[0mf\u001b[0m\u001b[0;34m(\u001b[0m\u001b[0;34m*\u001b[0m\u001b[0margs\u001b[0m\u001b[0;34m,\u001b[0m \u001b[0;34m**\u001b[0m\u001b[0mkwargs\u001b[0m\u001b[0;34m)\u001b[0m\u001b[0;34m\u001b[0m\u001b[0;34m\u001b[0m\u001b[0m\n\u001b[0m\u001b[1;32m     64\u001b[0m \u001b[0;34m\u001b[0m\u001b[0m\n\u001b[1;32m     65\u001b[0m             \u001b[0;31m# extra_args > 0\u001b[0m\u001b[0;34m\u001b[0m\u001b[0;34m\u001b[0m\u001b[0;34m\u001b[0m\u001b[0m\n",
      "\u001b[0;32m/scratch/sagar/Projects/learn/compressai/venv/lib/python3.6/site-packages/sklearn/cluster/_spectral.py\u001b[0m in \u001b[0;36mspectral_clustering\u001b[0;34m(affinity, n_clusters, n_components, eigen_solver, random_state, n_init, eigen_tol, assign_labels, verbose)\u001b[0m\n\u001b[1;32m    273\u001b[0m                               \u001b[0meigen_solver\u001b[0m\u001b[0;34m=\u001b[0m\u001b[0meigen_solver\u001b[0m\u001b[0;34m,\u001b[0m\u001b[0;34m\u001b[0m\u001b[0;34m\u001b[0m\u001b[0m\n\u001b[1;32m    274\u001b[0m                               \u001b[0mrandom_state\u001b[0m\u001b[0;34m=\u001b[0m\u001b[0mrandom_state\u001b[0m\u001b[0;34m,\u001b[0m\u001b[0;34m\u001b[0m\u001b[0;34m\u001b[0m\u001b[0m\n\u001b[0;32m--> 275\u001b[0;31m                               eigen_tol=eigen_tol, drop_first=False)\n\u001b[0m\u001b[1;32m    276\u001b[0m     \u001b[0;32mif\u001b[0m \u001b[0mverbose\u001b[0m\u001b[0;34m:\u001b[0m\u001b[0;34m\u001b[0m\u001b[0;34m\u001b[0m\u001b[0m\n\u001b[1;32m    277\u001b[0m         \u001b[0mprint\u001b[0m\u001b[0;34m(\u001b[0m\u001b[0;34mf'Computing label assignment using {assign_labels}'\u001b[0m\u001b[0;34m)\u001b[0m\u001b[0;34m\u001b[0m\u001b[0;34m\u001b[0m\u001b[0m\n",
      "\u001b[0;32m/scratch/sagar/Projects/learn/compressai/venv/lib/python3.6/site-packages/sklearn/utils/validation.py\u001b[0m in \u001b[0;36minner_f\u001b[0;34m(*args, **kwargs)\u001b[0m\n\u001b[1;32m     61\u001b[0m             \u001b[0mextra_args\u001b[0m \u001b[0;34m=\u001b[0m \u001b[0mlen\u001b[0m\u001b[0;34m(\u001b[0m\u001b[0margs\u001b[0m\u001b[0;34m)\u001b[0m \u001b[0;34m-\u001b[0m \u001b[0mlen\u001b[0m\u001b[0;34m(\u001b[0m\u001b[0mall_args\u001b[0m\u001b[0;34m)\u001b[0m\u001b[0;34m\u001b[0m\u001b[0;34m\u001b[0m\u001b[0m\n\u001b[1;32m     62\u001b[0m             \u001b[0;32mif\u001b[0m \u001b[0mextra_args\u001b[0m \u001b[0;34m<=\u001b[0m \u001b[0;36m0\u001b[0m\u001b[0;34m:\u001b[0m\u001b[0;34m\u001b[0m\u001b[0;34m\u001b[0m\u001b[0m\n\u001b[0;32m---> 63\u001b[0;31m                 \u001b[0;32mreturn\u001b[0m \u001b[0mf\u001b[0m\u001b[0;34m(\u001b[0m\u001b[0;34m*\u001b[0m\u001b[0margs\u001b[0m\u001b[0;34m,\u001b[0m \u001b[0;34m**\u001b[0m\u001b[0mkwargs\u001b[0m\u001b[0;34m)\u001b[0m\u001b[0;34m\u001b[0m\u001b[0;34m\u001b[0m\u001b[0m\n\u001b[0m\u001b[1;32m     64\u001b[0m \u001b[0;34m\u001b[0m\u001b[0m\n\u001b[1;32m     65\u001b[0m             \u001b[0;31m# extra_args > 0\u001b[0m\u001b[0;34m\u001b[0m\u001b[0;34m\u001b[0m\u001b[0;34m\u001b[0m\u001b[0m\n",
      "\u001b[0;32m/scratch/sagar/Projects/learn/compressai/venv/lib/python3.6/site-packages/sklearn/manifold/_spectral_embedding.py\u001b[0m in \u001b[0;36mspectral_embedding\u001b[0;34m(adjacency, n_components, eigen_solver, random_state, eigen_tol, norm_laplacian, drop_first)\u001b[0m\n\u001b[1;32m    279\u001b[0m             _, diffusion_map = eigsh(\n\u001b[1;32m    280\u001b[0m                 \u001b[0mlaplacian\u001b[0m\u001b[0;34m,\u001b[0m \u001b[0mk\u001b[0m\u001b[0;34m=\u001b[0m\u001b[0mn_components\u001b[0m\u001b[0;34m,\u001b[0m \u001b[0msigma\u001b[0m\u001b[0;34m=\u001b[0m\u001b[0;36m1.0\u001b[0m\u001b[0;34m,\u001b[0m \u001b[0mwhich\u001b[0m\u001b[0;34m=\u001b[0m\u001b[0;34m'LM'\u001b[0m\u001b[0;34m,\u001b[0m\u001b[0;34m\u001b[0m\u001b[0;34m\u001b[0m\u001b[0m\n\u001b[0;32m--> 281\u001b[0;31m                 tol=eigen_tol, v0=v0)\n\u001b[0m\u001b[1;32m    282\u001b[0m             \u001b[0membedding\u001b[0m \u001b[0;34m=\u001b[0m \u001b[0mdiffusion_map\u001b[0m\u001b[0;34m.\u001b[0m\u001b[0mT\u001b[0m\u001b[0;34m[\u001b[0m\u001b[0mn_components\u001b[0m\u001b[0;34m:\u001b[0m\u001b[0;34m:\u001b[0m\u001b[0;34m-\u001b[0m\u001b[0;36m1\u001b[0m\u001b[0;34m]\u001b[0m\u001b[0;34m\u001b[0m\u001b[0;34m\u001b[0m\u001b[0m\n\u001b[1;32m    283\u001b[0m             \u001b[0;32mif\u001b[0m \u001b[0mnorm_laplacian\u001b[0m\u001b[0;34m:\u001b[0m\u001b[0;34m\u001b[0m\u001b[0;34m\u001b[0m\u001b[0m\n",
      "\u001b[0;32m/scratch/sagar/Projects/learn/compressai/venv/lib/python3.6/site-packages/scipy/sparse/linalg/eigen/arpack/arpack.py\u001b[0m in \u001b[0;36meigsh\u001b[0;34m(A, k, M, sigma, which, v0, ncv, maxiter, tol, return_eigenvectors, Minv, OPinv, mode)\u001b[0m\n\u001b[1;32m   1685\u001b[0m     \u001b[0;32mwith\u001b[0m \u001b[0m_ARPACK_LOCK\u001b[0m\u001b[0;34m:\u001b[0m\u001b[0;34m\u001b[0m\u001b[0;34m\u001b[0m\u001b[0m\n\u001b[1;32m   1686\u001b[0m         \u001b[0;32mwhile\u001b[0m \u001b[0;32mnot\u001b[0m \u001b[0mparams\u001b[0m\u001b[0;34m.\u001b[0m\u001b[0mconverged\u001b[0m\u001b[0;34m:\u001b[0m\u001b[0;34m\u001b[0m\u001b[0;34m\u001b[0m\u001b[0m\n\u001b[0;32m-> 1687\u001b[0;31m             \u001b[0mparams\u001b[0m\u001b[0;34m.\u001b[0m\u001b[0miterate\u001b[0m\u001b[0;34m(\u001b[0m\u001b[0;34m)\u001b[0m\u001b[0;34m\u001b[0m\u001b[0;34m\u001b[0m\u001b[0m\n\u001b[0m\u001b[1;32m   1688\u001b[0m \u001b[0;34m\u001b[0m\u001b[0m\n\u001b[1;32m   1689\u001b[0m         \u001b[0;32mreturn\u001b[0m \u001b[0mparams\u001b[0m\u001b[0;34m.\u001b[0m\u001b[0mextract\u001b[0m\u001b[0;34m(\u001b[0m\u001b[0mreturn_eigenvectors\u001b[0m\u001b[0;34m)\u001b[0m\u001b[0;34m\u001b[0m\u001b[0;34m\u001b[0m\u001b[0m\n",
      "\u001b[0;32m/scratch/sagar/Projects/learn/compressai/venv/lib/python3.6/site-packages/scipy/sparse/linalg/eigen/arpack/arpack.py\u001b[0m in \u001b[0;36miterate\u001b[0;34m(self)\u001b[0m\n\u001b[1;32m    537\u001b[0m             self._arpack_solver(self.ido, self.bmat, self.which, self.k,\n\u001b[1;32m    538\u001b[0m                                 \u001b[0mself\u001b[0m\u001b[0;34m.\u001b[0m\u001b[0mtol\u001b[0m\u001b[0;34m,\u001b[0m \u001b[0mself\u001b[0m\u001b[0;34m.\u001b[0m\u001b[0mresid\u001b[0m\u001b[0;34m,\u001b[0m \u001b[0mself\u001b[0m\u001b[0;34m.\u001b[0m\u001b[0mv\u001b[0m\u001b[0;34m,\u001b[0m \u001b[0mself\u001b[0m\u001b[0;34m.\u001b[0m\u001b[0miparam\u001b[0m\u001b[0;34m,\u001b[0m\u001b[0;34m\u001b[0m\u001b[0;34m\u001b[0m\u001b[0m\n\u001b[0;32m--> 539\u001b[0;31m                                 self.ipntr, self.workd, self.workl, self.info)\n\u001b[0m\u001b[1;32m    540\u001b[0m \u001b[0;34m\u001b[0m\u001b[0m\n\u001b[1;32m    541\u001b[0m         \u001b[0mxslice\u001b[0m \u001b[0;34m=\u001b[0m \u001b[0mslice\u001b[0m\u001b[0;34m(\u001b[0m\u001b[0mself\u001b[0m\u001b[0;34m.\u001b[0m\u001b[0mipntr\u001b[0m\u001b[0;34m[\u001b[0m\u001b[0;36m0\u001b[0m\u001b[0;34m]\u001b[0m \u001b[0;34m-\u001b[0m \u001b[0;36m1\u001b[0m\u001b[0;34m,\u001b[0m \u001b[0mself\u001b[0m\u001b[0;34m.\u001b[0m\u001b[0mipntr\u001b[0m\u001b[0;34m[\u001b[0m\u001b[0;36m0\u001b[0m\u001b[0;34m]\u001b[0m \u001b[0;34m-\u001b[0m \u001b[0;36m1\u001b[0m \u001b[0;34m+\u001b[0m \u001b[0mself\u001b[0m\u001b[0;34m.\u001b[0m\u001b[0mn\u001b[0m\u001b[0;34m)\u001b[0m\u001b[0;34m\u001b[0m\u001b[0;34m\u001b[0m\u001b[0m\n",
      "\u001b[0;31mKeyboardInterrupt\u001b[0m: "
     ]
    }
   ],
   "source": [
    "import numpy as np\n",
    "from sklearn.decomposition import PCA\n",
    "\n",
    "X = train_views[0].view(60000,-1)\n",
    "pca = PCA(n_components=10)\n",
    "G = pca.fit_transform(X[:5000])\n",
    "\n",
    "pred = SpectralClustering(n_clusters=10, gamma=5, random_state=150).fit_predict(G[:3000])\n",
    "\n",
    "cluster_map = cluster_permutation_map(pred, train_classes[:3000].numpy())\n",
    "mapped_labels = map(pred, cluster_map)\n",
    "acc = delta_sum(mapped_labels, train_classes[:3000].numpy())/ len(pred)\n",
    "\n",
    "acc"
   ]
  },
  {
   "cell_type": "code",
   "execution_count": 12,
   "id": "permanent-evaluation",
   "metadata": {},
   "outputs": [
    {
     "data": {
      "text/plain": [
       "0.5536666666666666"
      ]
     },
     "execution_count": 12,
     "metadata": {},
     "output_type": "execute_result"
    }
   ],
   "source": [
    "acc"
   ]
  },
  {
   "cell_type": "markdown",
   "id": "geographic-construction",
   "metadata": {},
   "source": [
    "### Get latent representations"
   ]
  },
  {
   "cell_type": "code",
   "execution_count": 3,
   "id": "inside-press",
   "metadata": {},
   "outputs": [],
   "source": [
    "DGCCA_CONV_MNIST_PATH = 'trained_models/dgcca_mnist_ae2_shuffled.model'\n",
    "DGCCA_LINEAR_MNIST_PATH = 'trained_models/dgcca_mnist_ae1_shuffled_linear.model'\n",
    "DGCCA_CONV_MNIST_FED_PATH = 'trained_models/dgcca_mnist_ae2_fed.model'\n",
    "DGCCA_LINEAR_MNIST_FED_PATH = 'trained_models/dgcca_mnist_linear2_fed_innerit1.model'\n",
    "\n",
    "G_conv_mnist = get_latent_repr(DGCCA_CONV_MNIST_PATH, test_views)\n",
    "G_conv_fed_mnist = get_latent_repr(DGCCA_CONV_MNIST_FED_PATH, test_views)\n",
    "G_linear_mnist = get_latent_repr(DGCCA_LINEAR_MNIST_PATH, test_views)\n",
    "G_linear_fed_mnist = get_latent_repr(DGCCA_LINEAR_MNIST_FED_PATH, test_views)\n"
   ]
  },
  {
   "cell_type": "markdown",
   "id": "discrete-peninsula",
   "metadata": {},
   "source": [
    "### Spectral clustering "
   ]
  },
  {
   "cell_type": "code",
   "execution_count": 4,
   "id": "scheduled-wheel",
   "metadata": {},
   "outputs": [],
   "source": [
    "from sklearn.cluster import KMeans, SpectralClustering\n",
    "\n",
    "# pred_conv_mnist = SpectralClustering(n_clusters=10, gamma=5, random_state=150).fit_predict(G_conv_mnist[:3000])\n",
    "# pred_conv_fed_mnist = SpectralClustering(n_clusters=10, gamma=5, random_state=150).fit_predict(G_conv_fed_mnist[:3000])\n",
    "# pred_linear_mnist = SpectralClustering(n_clusters=10, gamma=5, random_state=150).fit_predict(G_linear_mnist[:3000])\n",
    "pred_linear_fed_mnist = SpectralClustering(n_clusters=10, gamma=5, random_state=150).fit_predict(G_linear_fed_mnist[:3000])\n"
   ]
  },
  {
   "cell_type": "code",
   "execution_count": 6,
   "id": "complex-boards",
   "metadata": {},
   "outputs": [
    {
     "data": {
      "text/plain": [
       "Text(0.5, 1.0, 't-SNE plot of latent representation G')"
      ]
     },
     "execution_count": 6,
     "metadata": {},
     "output_type": "execute_result"
    },
    {
     "data": {
      "image/png": "[encoded data removed]",
      "text/plain": [
       "<Figure size 432x288 with 1 Axes>"
      ]
     },
     "metadata": {
      "needs_background": "light"
     },
     "output_type": "display_data"
    }
   ],
   "source": [
    "from sklearn.manifold import TSNE\n",
    "\n",
    "X = G_linear_fed_mnist[:3000].numpy()\n",
    "X_embedded = TSNE(n_components=2).fit_transform(X)\n",
    "\n",
    "fig, axes = plt.subplots(1,1)\n",
    "\n",
    "axes.scatter(X_embedded[:3000,0], X_embedded[:3000,1], c=pred_linear_fed_mnist[:3000])\n",
    "axes.set_title('t-SNE plot of latent representation G')"
   ]
  },
  {
   "cell_type": "markdown",
   "id": "grave-student",
   "metadata": {},
   "source": [
    "### Compute Clustering Accuracy"
   ]
  },
  {
   "cell_type": "code",
   "execution_count": 60,
   "id": "spiritual-rehabilitation",
   "metadata": {},
   "outputs": [],
   "source": [
    "cluster_map = cluster_permutation_map(pred_conv_mnist, test_classes[:3000].numpy())\n",
    "mapped_labels = map(pred_conv_mnist, cluster_map)\n",
    "acc_conv_mnist = delta_sum(mapped_labels, test_classes[:3000].numpy())/ len(pred_conv_mnist)\n",
    "\n",
    "cluster_map = cluster_permutation_map(pred_conv_fed_mnist, test_classes[:3000].numpy())\n",
    "mapped_labels = map(pred_conv_fed_mnist, cluster_map)\n",
    "acc_conv_fed_mnist = delta_sum(mapped_labels, test_classes[:3000].numpy())/ len(pred_conv_fed_mnist)\n",
    "\n",
    "cluster_map = cluster_permutation_map(pred_linear_mnist, test_classes[:3000].numpy())\n",
    "mapped_labels = map(pred_linear_mnist, cluster_map)\n",
    "acc_linear_mnist = delta_sum(mapped_labels, test_classes[:3000].numpy())/ len(pred_linear_mnist)"
   ]
  },
  {
   "cell_type": "code",
   "execution_count": null,
   "id": "acoustic-tennis",
   "metadata": {},
   "outputs": [],
   "source": []
  },
  {
   "cell_type": "code",
   "execution_count": 56,
   "id": "respiratory-rendering",
   "metadata": {},
   "outputs": [],
   "source": [
    "cluster_map = cluster_permutation_map(pred_linear_mnist, test_classes[:3000].numpy())\n",
    "mapped_labels = map(pred_linear_mnist, cluster_map)"
   ]
  },
  {
   "cell_type": "code",
   "execution_count": 58,
   "id": "regional-glance",
   "metadata": {},
   "outputs": [],
   "source": [
    "acc_conv_mnist = delta_sum(mapped_labels, test_classes[:3000].numpy())/ len(pred_conv_mnist)"
   ]
  },
  {
   "cell_type": "code",
   "execution_count": 59,
   "id": "distant-cigarette",
   "metadata": {},
   "outputs": [
    {
     "data": {
      "text/plain": [
       "0.9716666666666667"
      ]
     },
     "execution_count": 59,
     "metadata": {},
     "output_type": "execute_result"
    }
   ],
   "source": [
    "acc_conv_mnist"
   ]
  },
  {
   "cell_type": "markdown",
   "id": "mature-technical",
   "metadata": {},
   "source": [
    "## TSNE for EHR data"
   ]
  },
  {
   "cell_type": "code",
   "execution_count": null,
   "id": "appointed-analysis",
   "metadata": {},
   "outputs": [],
   "source": [
    "from sklearn.manifold import TSNE\n",
    "\n",
    "X = G_linear_fed_mnist[:3000].numpy()\n",
    "X_embedded = TSNE(n_components=2).fit_transform(X)\n",
    "\n",
    "fig, axes = plt.subplots(1,1)\n",
    "\n",
    "axes.scatter(X_embedded[:3000,0], X_embedded[:3000,1], c=pred_linear_fed_mnist[:3000])\n",
    "axes.set_title('t-SNE plot of latent representation G')"
   ]
  },
  {
   "cell_type": "code",
   "execution_count": 44,
   "id": "appreciated-train",
   "metadata": {},
   "outputs": [
    {
     "data": {
      "text/plain": [
       "array([7., 2., 1., ..., 1., 4., 0.])"
      ]
     },
     "execution_count": 44,
     "metadata": {},
     "output_type": "execute_result"
    }
   ],
   "source": [
    "mapped_labels"
   ]
  },
  {
   "cell_type": "code",
   "execution_count": 46,
   "id": "saved-silly",
   "metadata": {},
   "outputs": [
    {
     "data": {
      "text/plain": [
       "tensor([7, 2, 1,  ..., 1, 4, 0])"
      ]
     },
     "execution_count": 46,
     "metadata": {},
     "output_type": "execute_result"
    }
   ],
   "source": [
    "test_classes[:3000]"
   ]
  },
  {
   "cell_type": "code",
   "execution_count": 39,
   "id": "covered-issue",
   "metadata": {},
   "outputs": [
    {
     "data": {
      "text/plain": [
       "[2, 6, 3, 7, 4, 9, 1, 8, 5, 0]"
      ]
     },
     "execution_count": 39,
     "metadata": {},
     "output_type": "execute_result"
    }
   ],
   "source": [
    "cluster_map"
   ]
  },
  {
   "cell_type": "code",
   "execution_count": null,
   "id": "characteristic-bedroom",
   "metadata": {},
   "outputs": [],
   "source": []
  },
  {
   "cell_type": "code",
   "execution_count": 21,
   "id": "familiar-premises",
   "metadata": {},
   "outputs": [],
   "source": [
    "a = np.array([3,3,3,0,1, 1, 1,1 ])\n",
    "c = np.array([2,2,2,1,0, 0, 0, 0])"
   ]
  },
  {
   "cell_type": "code",
   "execution_count": 22,
   "id": "animated-growth",
   "metadata": {},
   "outputs": [],
   "source": [
    "perm = cluster_permutation_map(c, a, n_labels=5)"
   ]
  },
  {
   "cell_type": "code",
   "execution_count": 23,
   "id": "indian-investigator",
   "metadata": {},
   "outputs": [],
   "source": [
    "mm = [np.argmax(p) for p in perm]"
   ]
  },
  {
   "cell_type": "code",
   "execution_count": 24,
   "id": "dense-bathroom",
   "metadata": {},
   "outputs": [
    {
     "data": {
      "text/plain": [
       "[1, 0, 3, 0, 0]"
      ]
     },
     "execution_count": 24,
     "metadata": {},
     "output_type": "execute_result"
    }
   ],
   "source": [
    "mm"
   ]
  },
  {
   "cell_type": "code",
   "execution_count": 23,
   "id": "collect-clothing",
   "metadata": {},
   "outputs": [
    {
     "data": {
      "text/plain": [
       "torch.Size([10000])"
      ]
     },
     "execution_count": 23,
     "metadata": {},
     "output_type": "execute_result"
    }
   ],
   "source": [
    "test_classes[:3000]"
   ]
  },
  {
   "cell_type": "code",
   "execution_count": 29,
   "id": "simple-brief",
   "metadata": {},
   "outputs": [
    {
     "data": {
      "text/plain": [
       "(396,)"
      ]
     },
     "execution_count": 29,
     "metadata": {},
     "output_type": "execute_result"
    }
   ],
   "source": [
    "bpred_conv_mnist[pred_conv_mnist==5].shape"
   ]
  },
  {
   "cell_type": "code",
   "execution_count": 10,
   "id": "better-ultimate",
   "metadata": {},
   "outputs": [
    {
     "data": {
      "text/plain": [
       "array([1, 0, 0, 1, 1, 0, 0])"
      ]
     },
     "execution_count": 10,
     "metadata": {},
     "output_type": "execute_result"
    }
   ],
   "source": [
    "a.copy()"
   ]
  },
  {
   "cell_type": "code",
   "execution_count": 2,
   "id": "sufficient-insulation",
   "metadata": {},
   "outputs": [],
   "source": [
    "a = np.array([2, 3, 4, 2, 2, 5, 4])"
   ]
  },
  {
   "cell_type": "code",
   "execution_count": 3,
   "id": "floral-price",
   "metadata": {},
   "outputs": [],
   "source": [
    "c = np.array([1, 3, 4, 4, 4, 5, 4])"
   ]
  },
  {
   "cell_type": "code",
   "execution_count": 4,
   "id": "hindu-canon",
   "metadata": {},
   "outputs": [],
   "source": [
    "a[a!=2] = 0"
   ]
  },
  {
   "cell_type": "code",
   "execution_count": 5,
   "id": "otherwise-pipeline",
   "metadata": {},
   "outputs": [],
   "source": [
    "a[a==2] = 1"
   ]
  },
  {
   "cell_type": "code",
   "execution_count": 7,
   "id": "floppy-plastic",
   "metadata": {},
   "outputs": [],
   "source": [
    "c = c*a"
   ]
  },
  {
   "cell_type": "code",
   "execution_count": 9,
   "id": "miniature-college",
   "metadata": {},
   "outputs": [
    {
     "data": {
      "text/plain": [
       "3"
      ]
     },
     "execution_count": 9,
     "metadata": {},
     "output_type": "execute_result"
    }
   ],
   "source": []
  },
  {
   "cell_type": "code",
   "execution_count": null,
   "id": "intermediate-highway",
   "metadata": {},
   "outputs": [],
   "source": []
  },
  {
   "cell_type": "code",
   "execution_count": 62,
   "id": "extreme-graph",
   "metadata": {},
   "outputs": [
    {
     "data": {
      "text/plain": [
       "3"
      ]
     },
     "execution_count": 62,
     "metadata": {},
     "output_type": "execute_result"
    }
   ],
   "source": [
    "b = a - np.ones(len(a))*2\n",
    "\n",
    "len(a)"
   ]
  },
  {
   "cell_type": "code",
   "execution_count": 66,
   "id": "beautiful-shield",
   "metadata": {},
   "outputs": [],
   "source": [
    "a[a!=2] = 0"
   ]
  },
  {
   "cell_type": "code",
   "execution_count": 67,
   "id": "extensive-budget",
   "metadata": {},
   "outputs": [
    {
     "data": {
      "text/plain": [
       "array([2, 0, 0, 2, 2, 0, 0])"
      ]
     },
     "execution_count": 67,
     "metadata": {},
     "output_type": "execute_result"
    }
   ],
   "source": [
    "a"
   ]
  },
  {
   "cell_type": "code",
   "execution_count": 48,
   "id": "immune-toolbox",
   "metadata": {},
   "outputs": [
    {
     "ename": "ValueError",
     "evalue": "The truth value of an array with more than one element is ambiguous. Use a.any() or a.all()",
     "output_type": "error",
     "traceback": [
      "\u001b[0;31m---------------------------------------------------------------------------\u001b[0m",
      "\u001b[0;31mValueError\u001b[0m                                Traceback (most recent call last)",
      "\u001b[0;32m<ipython-input-48-3bdb307f42b2>\u001b[0m in \u001b[0;36m<module>\u001b[0;34m\u001b[0m\n\u001b[0;32m----> 1\u001b[0;31m \u001b[0mbool\u001b[0m\u001b[0;34m(\u001b[0m\u001b[0mb\u001b[0m\u001b[0;34m)\u001b[0m\u001b[0;34m\u001b[0m\u001b[0;34m\u001b[0m\u001b[0m\n\u001b[0m",
      "\u001b[0;31mValueError\u001b[0m: The truth value of an array with more than one element is ambiguous. Use a.any() or a.all()"
     ]
    }
   ],
   "source": []
  },
  {
   "cell_type": "code",
   "execution_count": 47,
   "id": "dedicated-emperor",
   "metadata": {},
   "outputs": [
    {
     "data": {
      "text/plain": [
       "array([-2., -1.,  0., -2., -2.,  1.,  0.])"
      ]
     },
     "execution_count": 47,
     "metadata": {},
     "output_type": "execute_result"
    }
   ],
   "source": [
    "b"
   ]
  },
  {
   "cell_type": "code",
   "execution_count": 41,
   "id": "composed-forwarding",
   "metadata": {},
   "outputs": [
    {
     "data": {
      "text/plain": [
       "array([16])"
      ]
     },
     "execution_count": 41,
     "metadata": {},
     "output_type": "execute_result"
    }
   ],
   "source": [
    "4*np.array([4])"
   ]
  },
  {
   "cell_type": "code",
   "execution_count": 39,
   "id": "comfortable-cleaner",
   "metadata": {},
   "outputs": [
    {
     "data": {
      "text/plain": [
       "[4, 4, 4, 4, 4, 4, 4]"
      ]
     },
     "execution_count": 39,
     "metadata": {},
     "output_type": "execute_result"
    }
   ],
   "source": [
    "len(a)*[4]"
   ]
  },
  {
   "cell_type": "code",
   "execution_count": 16,
   "id": "lined-checklist",
   "metadata": {},
   "outputs": [
    {
     "data": {
      "text/plain": [
       "(3000,)"
      ]
     },
     "execution_count": 16,
     "metadata": {},
     "output_type": "execute_result"
    }
   ],
   "source": [
    "pred_conv_mnist"
   ]
  },
  {
   "cell_type": "code",
   "execution_count": null,
   "id": "assisted-table",
   "metadata": {},
   "outputs": [],
   "source": []
  },
  {
   "cell_type": "code",
   "execution_count": null,
   "id": "romance-checkout",
   "metadata": {},
   "outputs": [],
   "source": []
  },
  {
   "cell_type": "code",
   "execution_count": null,
   "id": "arctic-brief",
   "metadata": {},
   "outputs": [],
   "source": []
  },
  {
   "cell_type": "code",
   "execution_count": null,
   "id": "lined-pulse",
   "metadata": {},
   "outputs": [],
   "source": []
  }
 ],
 "metadata": {
  "kernelspec": {
   "display_name": "Python 3",
   "language": "python",
   "name": "python3"
  },
  "language_info": {
   "codemirror_mode": {
    "name": "ipython",
    "version": 3
   },
   "file_extension": ".py",
   "mimetype": "text/x-python",
   "name": "python",
   "nbconvert_exporter": "python",
   "pygments_lexer": "ipython3",
   "version": "3.6.8"
  }
 },
 "nbformat": 4,
 "nbformat_minor": 5
}
