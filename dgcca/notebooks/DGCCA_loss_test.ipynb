{
 "cells": [
  {
   "cell_type": "markdown",
   "metadata": {
    "colab_type": "text",
    "id": "view-in-github"
   },
   "source": [
    "<a href=\"https://colab.research.google.com/github/arminarj/DGCCA-pytorch/blob/master/DGCCA_loss_test.ipynb\" target=\"_parent\"><img src=\"https://colab.research.google.com/assets/colab-badge.svg\" alt=\"Open In Colab\"/></a>"
   ]
  },
  {
   "cell_type": "code",
   "execution_count": 0,
   "metadata": {
    "colab": {},
    "colab_type": "code",
    "id": "9PcxwzgXQODv"
   },
   "outputs": [],
   "source": [
    "%load_ext autoreload\n",
    "%autoreload 2\n",
    "\n",
    "import torch\n",
    "import torch.nn as nn\n"
   ]
  },
  {
   "cell_type": "code",
   "execution_count": 0,
   "metadata": {
    "colab": {},
    "colab_type": "code",
    "id": "7tUMogAE7fLD"
   },
   "outputs": [],
   "source": [
    "def GCCA_loss(H1, H2):\n",
    "    r = 1e-4\n",
    "    eps = 1e-8\n",
    "\n",
    "    # H1, H2, H3 = H1.t(), H2.t(), H3.t()\n",
    "\n",
    "    # print(f'H1 shape ( N X feature) : {H1.shape}')\n",
    "\n",
    "    assert torch.isnan(H1).sum().item() == 0 \n",
    "    assert torch.isnan(H2).sum().item() == 0\n",
    "    # assert torch.isnan(H3).sum().item() == 0\n",
    "\n",
    "    o1 = H1.size(0)  # N\n",
    "    o2 = H2.size(0)\n",
    "    m = H1.size(1)   # out_dim\n",
    "\n",
    "    top_k = 10\n",
    "\n",
    "    H1bar = H1 - H1.mean(dim=1).repeat(m, 1).view(-1, m)\n",
    "    H2bar = H2 - H2.mean(dim=1).repeat(m, 1).view(-1, m)\n",
    "    assert torch.isnan(H1bar).sum().item() == 0\n",
    "    assert torch.isnan(H2bar).sum().item() == 0\n",
    "\n",
    "    A1, S1, B1 = H1bar.svd(some=True, compute_uv=True)\n",
    "    A2, S2, B2 = H2bar.svd(some=True, compute_uv=True)\n",
    "\n",
    "    A1, A2 = A1[:, :top_k], A2[:, :top_k]\n",
    "\n",
    "    assert torch.isnan(A1).sum().item() == 0\n",
    "    assert torch.isnan(A2).sum().item() == 0\n",
    "\n",
    "    S_thin_1, S_thin_2 = S1[:top_k], S2[:top_k]\n",
    "\n",
    "\n",
    "    S2_inv_1 = 1. / (torch.mul( S_thin_1, S_thin_1 ) + eps)\n",
    "    S2_inv_2 = 1. / (torch.mul( S_thin_2, S_thin_2 ) + eps)\n",
    "\n",
    "    assert torch.isnan(S2_inv_1).sum().item() == 0\n",
    "    assert torch.isnan(S2_inv_2).sum().item() == 0\n",
    "\n",
    "    T2_1 = torch.mul( torch.mul( S_thin_1, S2_inv_1 ), S_thin_1 )\n",
    "    T2_2 = torch.mul( torch.mul( S_thin_2, S2_inv_2 ), S_thin_2 )\n",
    "\n",
    "    assert torch.isnan(T2_1).sum().item() == 0\n",
    "    assert torch.isnan(T2_2).sum().item() == 0\n",
    "\n",
    "    T2_1 = torch.where(T2_1>eps, T2_1, (torch.ones(T2_1.shape)*eps).to(H1.device).double())\n",
    "    T2_2 = torch.where(T2_2>eps, T2_2, (torch.ones(T2_2.shape)*eps).to(H2.device).double())\n",
    "\n",
    "\n",
    "    T_1 = torch.diag(torch.sqrt(T2_1))\n",
    "    T_2 = torch.diag(torch.sqrt(T2_2))\n",
    "\n",
    "    assert torch.isnan(T_1).sum().item() == 0\n",
    "    assert torch.isnan(T_2).sum().item() == 0\n",
    "\n",
    "    T_unnorm_1 = torch.diag( S_thin_1 + eps )\n",
    "    T_unnorm_2 = torch.diag( S_thin_2 + eps )\n",
    "\n",
    "    assert torch.isnan(T_unnorm_1).sum().item() == 0\n",
    "    assert torch.isnan(T_unnorm_2).sum().item() == 0\n",
    "\n",
    "    AT_1 = torch.mm(A1, T_1)\n",
    "    AT_2 = torch.mm(A2, T_2)\n",
    "\n",
    "    M_tilde = torch.cat([AT_1, AT_2], dim=1)\n",
    "\n",
    "    # print(f'M_tilde shape : {M_tilde.shape}')\n",
    "\n",
    "    assert torch.isnan(M_tilde).sum().item() == 0\n",
    "\n",
    "    Q, R = M_tilde.qr()\n",
    "\n",
    "    assert torch.isnan(R).sum().item() == 0\n",
    "    assert torch.isnan(Q).sum().item() == 0\n",
    "\n",
    "    U, lbda, _ = R.svd(some=False, compute_uv=True)\n",
    "\n",
    "    assert torch.isnan(U).sum().item() == 0\n",
    "    assert torch.isnan(lbda).sum().item() == 0\n",
    "\n",
    "    G = Q.mm(U[:,:top_k])\n",
    "    assert torch.isnan(G).sum().item() == 0\n",
    "\n",
    "\n",
    "    U = [] # Mapping from views to latent space\n",
    "\n",
    "    # Get mapping to shared space\n",
    "    views = [H1, H2]\n",
    "    F = [o1, o2] # features per view\n",
    "    for idx, (f, view) in enumerate(zip(F, views)):\n",
    "        _, R = torch.qr(view)\n",
    "        Cjj_inv = torch.inverse( (R.T.mm(R) + eps * torch.eye( view.shape[1], device=view.device)) )\n",
    "        assert torch.isnan(Cjj_inv).sum().item() == 0\n",
    "        pinv = Cjj_inv.mm( view.T)\n",
    "            \n",
    "        U.append(pinv.mm( G ))\n",
    "\n",
    "    U1, U2  = U[0], U[1]\n",
    "    _, S, _ = M_tilde.svd(some=True)\n",
    "\n",
    "    assert torch.isnan(S).sum().item() == 0\n",
    "    use_all_singular_values = False\n",
    "    if not use_all_singular_values:\n",
    "        S = S.topk(top_k)[0]\n",
    "    corr = torch.sum(S )\n",
    "    assert torch.isnan(corr).item() == 0\n",
    "    # loss = 14.1421-corr\n",
    "    loss = - corr\n",
    "    return loss"
   ]
  },
  {
   "cell_type": "code",
   "execution_count": 0,
   "metadata": {
    "colab": {},
    "colab_type": "code",
    "id": "LCS80-vPAu7n"
   },
   "outputs": [],
   "source": [
    "def GCCA_loss(H_list):\n",
    "\n",
    "    r = 1e-4\n",
    "    eps = 1e-8\n",
    "\n",
    "    # H1, H2, H3 = H1.t(), H2.t(), H3.t()\n",
    "\n",
    "    # print(f'H1 shape ( N X feature) : {H1.shape}')\n",
    "\n",
    "    # assert torch.isnan(H1).sum().item() == 0 \n",
    "    # assert torch.isnan(H2).sum().item() == 0\n",
    "    # assert torch.isnan(H3).sum().item() == 0\n",
    "\n",
    "    # o1 = H1.size(0)  # N\n",
    "    # o2 = H2.size(0)\n",
    "\n",
    "    top_k = 10\n",
    "\n",
    "    AT_list =  []\n",
    "\n",
    "    for H in H_list:\n",
    "        assert torch.isnan(H).sum().item() == 0 \n",
    "\n",
    "        o_shape = H.size(0)  # N\n",
    "        m = H.size(1)   # out_dim\n",
    "\n",
    "        # H1bar = H1 - H1.mean(dim=1).repeat(m, 1).view(-1, m)\n",
    "        Hbar = H - H.mean(dim=1).repeat(m, 1).view(-1, m)\n",
    "        assert torch.isnan(Hbar).sum().item() == 0\n",
    "\n",
    "        A, S, B = Hbar.svd(some=True, compute_uv=True)\n",
    "\n",
    "        A = A[:, :top_k]\n",
    "\n",
    "        assert torch.isnan(A).sum().item() == 0\n",
    "\n",
    "        S_thin = S[:top_k]\n",
    "\n",
    "        S2_inv = 1. / (torch.mul( S_thin, S_thin ) + eps)\n",
    "\n",
    "        assert torch.isnan(S2_inv).sum().item() == 0\n",
    "\n",
    "        T2 = torch.mul( torch.mul( S_thin, S2_inv ), S_thin )\n",
    "\n",
    "        assert torch.isnan(T2).sum().item() == 0\n",
    "\n",
    "        T2 = torch.where(T2>eps, T2, (torch.ones(T2.shape)*eps).to(H.device).double())\n",
    "\n",
    "\n",
    "        T = torch.diag(torch.sqrt(T2))\n",
    "\n",
    "        assert torch.isnan(T).sum().item() == 0\n",
    "\n",
    "        T_unnorm = torch.diag( S_thin + eps )\n",
    "\n",
    "        assert torch.isnan(T_unnorm).sum().item() == 0\n",
    "\n",
    "        AT = torch.mm(A, T)\n",
    "        AT_list.append(AT)\n",
    "\n",
    "    M_tilde = torch.cat(AT_list, dim=1)\n",
    "\n",
    "    # print(f'M_tilde shape : {M_tilde.shape}')\n",
    "\n",
    "    assert torch.isnan(M_tilde).sum().item() == 0\n",
    "\n",
    "    Q, R = M_tilde.qr()\n",
    "\n",
    "    assert torch.isnan(R).sum().item() == 0\n",
    "    assert torch.isnan(Q).sum().item() == 0\n",
    "\n",
    "    U, lbda, _ = R.svd(some=False, compute_uv=True)\n",
    "\n",
    "    assert torch.isnan(U).sum().item() == 0\n",
    "    assert torch.isnan(lbda).sum().item() == 0\n",
    "\n",
    "    G = Q.mm(U[:,:top_k])\n",
    "    assert torch.isnan(G).sum().item() == 0\n",
    "\n",
    "\n",
    "    U = [] # Mapping from views to latent space\n",
    "\n",
    "    # Get mapping to shared space\n",
    "    views = H_list\n",
    "    F = [H.shape[0] for H in H_list] # features per view\n",
    "    for idx, (f, view) in enumerate(zip(F, views)):\n",
    "        _, R = torch.qr(view)\n",
    "        Cjj_inv = torch.inverse( (R.T.mm(R) + eps * torch.eye( view.shape[1], device=view.device)) )\n",
    "        assert torch.isnan(Cjj_inv).sum().item() == 0\n",
    "        pinv = Cjj_inv.mm( view.T)\n",
    "            \n",
    "        U.append(pinv.mm( G ))\n",
    "\n",
    "    U1, U2  = U[0], U[1]\n",
    "    _, S, _ = M_tilde.svd(some=True)\n",
    "\n",
    "    assert torch.isnan(S).sum().item() == 0\n",
    "    use_all_singular_values = False\n",
    "    if not use_all_singular_values:\n",
    "        S = S.topk(top_k)[0]\n",
    "    corr = torch.sum(S )\n",
    "    assert torch.isnan(corr).item() == 0\n",
    "    # loss = 14.1421-corr\n",
    "    loss = - corr\n",
    "    return loss"
   ]
  },
  {
   "cell_type": "code",
   "execution_count": 0,
   "metadata": {
    "colab": {},
    "colab_type": "code",
    "id": "Qf_XEQTf7FIl"
   },
   "outputs": [],
   "source": [
    "class MlpNet(nn.Module):\n",
    "    def __init__(self, layer_sizes, input_size):\n",
    "        super(MlpNet, self).__init__()\n",
    "        layers = []\n",
    "        layer_sizes = [input_size] + layer_sizes\n",
    "        for l_id in range(len(layer_sizes) - 1):\n",
    "            if l_id == len(layer_sizes) - 2:\n",
    "                layers.append(nn.Sequential(\n",
    "                    nn.Linear(layer_sizes[l_id], layer_sizes[l_id + 1]),\n",
    "                    nn.Sigmoid(), \n",
    "                    nn.BatchNorm1d(num_features=layer_sizes[l_id + 1], affine=False),\n",
    "                    \n",
    "                ))\n",
    "            else:\n",
    "                layers.append(nn.Sequential(\n",
    "                    nn.Linear(layer_sizes[l_id], layer_sizes[l_id + 1]),\n",
    "                    nn.ReLU(),\n",
    "                    # nn.BatchNorm1d(num_features=layer_sizes[l_id + 1], affine=True),\n",
    "                ))\n",
    "        self.layers = nn.ModuleList(layers)\n",
    "\n",
    "    def forward(self, x):\n",
    "        for layer in self.layers:\n",
    "            x = layer(x)\n",
    "        return x\n",
    "class DeepGCCA(nn.Module):\n",
    "    def __init__(self, layer_sizes1, layer_sizes2, input_size1, input_size2, outdim_size, use_all_singular_values, device=torch.device('cpu')):\n",
    "        super(DeepGCCA, self).__init__()\n",
    "        self.model1 = MlpNet(layer_sizes1, input_size1).double()\n",
    "        self.model2 = MlpNet(layer_sizes2, input_size2).double()\n",
    "        self.model3 = MlpNet(layer_sizes2, input_size2).double()\n",
    "\n",
    "    def forward(self, x1, x2, x3):\n",
    "        \"\"\"\n",
    "\n",
    "        x1, x2 are the vectors needs to be make correlated\n",
    "        dim=[batch_size, feats]\n",
    "\n",
    "        \"\"\"\n",
    "        # feature * batch_size\n",
    "        output1 = self.model1(x1)\n",
    "        output2 = self.model2(x2)\n",
    "        output3 = self.model3(x3)\n",
    "\n",
    "        return output1, output2, output3\n"
   ]
  },
  {
   "cell_type": "code",
   "execution_count": 0,
   "metadata": {
    "colab": {},
    "colab_type": "code",
    "id": "9kK_5UIV6ofB"
   },
   "outputs": [],
   "source": [
    "lr = 1e-2\n",
    "device = 'cpu'\n",
    "torch.manual_seed(1)\n",
    "\n",
    "# size of the input for view 1 and view 2\n",
    "input_shape1 = 30\n",
    "input_shape2 = 30\n",
    "input_shape3 = 30\n",
    "\n",
    "X1 = torch.randn((1000, input_shape1), requires_grad=True).double().to(device)\n",
    "X2 = torch.randn((1000, input_shape2), requires_grad=True).double().to(device)\n",
    "X3 = torch.randn((1000, input_shape2), requires_grad=True).double().to(device)\n",
    "\n",
    "\n",
    "outdim_size = 20\n",
    "\n",
    "# number of layers with nodes in each one\n",
    "layer_sizes1 = [128, 128, outdim_size]\n",
    "layer_sizes2 = [128, 128, outdim_size]\n",
    "layer_sizes3 = [128, 128, outdim_size]\n"
   ]
  },
  {
   "cell_type": "code",
   "execution_count": 0,
   "metadata": {
    "colab": {},
    "colab_type": "code",
    "id": "2_ZRoVWWSNIw"
   },
   "outputs": [],
   "source": [
    "from copy import deepcopy as copy\n",
    "\n",
    "model = DeepGCCA(layer_sizes1, layer_sizes2, input_shape1, input_shape2, outdim_size, False, device).double().to(device)\n",
    "lr  = 1e-2\n",
    "optimizer = torch.optim.SGD(model.parameters(), lr=lr, momentum=0.9, weight_decay=0.5)\n",
    "scheduler = torch.optim.lr_scheduler.StepLR(optimizer, step_size=100, gamma=0.1)\n",
    "criterion = GCCA_loss\n",
    "\n",
    "train_loss = []\n",
    "\n",
    "model.train()\n",
    "\n",
    "for epoch in range(400):\n",
    "    optimizer.zero_grad()\n",
    "    out1, out2, out3 = model(X1, X2, X3)\n",
    "    loss = criterion([out1, out2, out3])\n",
    "    # print(loss)\n",
    "    train_loss.append(copy(loss.data))\n",
    "    loss.backward()\n",
    "    optimizer.step()\n",
    "    scheduler.step()\n"
   ]
  },
  {
   "cell_type": "code",
   "execution_count": 30,
   "metadata": {
    "colab": {
     "base_uri": "https://localhost:8080/",
     "height": 302
    },
    "colab_type": "code",
    "id": "V5zmmffM9nJH",
    "outputId": "ee92626e-7e6f-447b-f95b-fc9b8d5c5325"
   },
   "outputs": [
    {
     "data": {
      "text/plain": [
       "<matplotlib.axes._subplots.AxesSubplot at 0x7f18fa8e55f8>"
      ]
     },
     "execution_count": 30,
     "metadata": {
      "tags": []
     },
     "output_type": "execute_result"
    },
    {
     "data": {
      "image/png": "[encoded data removed]",
      "text/plain": [
       "<Figure size 432x288 with 1 Axes>"
      ]
     },
     "metadata": {
      "needs_background": "light",
      "tags": []
     },
     "output_type": "display_data"
    }
   ],
   "source": [
    "import pandas as pd\n",
    "\n",
    "loss_plt = pd.DataFrame(train_loss)\n",
    "loss_plt.plot()"
   ]
  },
  {
   "cell_type": "code",
   "execution_count": 33,
   "metadata": {
    "colab": {
     "base_uri": "https://localhost:8080/",
     "height": 54
    },
    "colab_type": "code",
    "id": "dELtbHByC4I7",
    "outputId": "3ac37621-1c8d-4b1f-ab17-4b4574e3c448"
   },
   "outputs": [
    {
     "data": {
      "text/plain": [
       "tensor(-10.7722, dtype=torch.float64, grad_fn=<NegBackward>)"
      ]
     },
     "execution_count": 33,
     "metadata": {
      "tags": []
     },
     "output_type": "execute_result"
    }
   ],
   "source": [
    "criterion([X1, X2, X3])"
   ]
  },
  {
   "cell_type": "code",
   "execution_count": 36,
   "metadata": {
    "colab": {
     "base_uri": "https://localhost:8080/",
     "height": 87
    },
    "colab_type": "code",
    "id": "47uFfJdEDAWj",
    "outputId": "d2e56e6e-f111-4a4a-e340-30b4407aa74f"
   },
   "outputs": [
    {
     "name": "stdout",
     "output_type": "stream",
     "text": [
      "tensor(-17.3205, dtype=torch.float64, grad_fn=<NegBackward>)\n",
      "tensor(-17.3205, dtype=torch.float64, grad_fn=<NegBackward>)\n",
      "tensor(-17.3205, dtype=torch.float64, grad_fn=<NegBackward>)\n"
     ]
    }
   ],
   "source": [
    "print(criterion([X1, X1, X1]))\n",
    "print(criterion([X2, X2, X2]))\n",
    "print(criterion([X3, X3, X3]))"
   ]
  },
  {
   "cell_type": "code",
   "execution_count": 0,
   "metadata": {
    "colab": {},
    "colab_type": "code",
    "id": "MG9mDDt0DHWC"
   },
   "outputs": [],
   "source": []
  }
 ],
 "metadata": {
  "colab": {
   "authorship_tag": "ABX9TyPsbWc5PBspg2E+fjIXsxWl",
   "collapsed_sections": [],
   "include_colab_link": true,
   "name": "DGCCA-loss-test.ipynb",
   "provenance": []
  },
  "kernelspec": {
   "display_name": "Python 3",
   "language": "python",
   "name": "python3"
  },
  "language_info": {
   "codemirror_mode": {
    "name": "ipython",
    "version": 3
   },
   "file_extension": ".py",
   "mimetype": "text/x-python",
   "name": "python",
   "nbconvert_exporter": "python",
   "pygments_lexer": "ipython3",
   "version": "3.6.8"
  }
 },
 "nbformat": 4,
 "nbformat_minor": 1
}
