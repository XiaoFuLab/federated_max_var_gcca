{
 "cells": [
  {
   "cell_type": "markdown",
   "id": "floral-attack",
   "metadata": {},
   "source": [
    "## DGCCA for EHR dataset"
   ]
  },
  {
   "cell_type": "markdown",
   "id": "sustainable-stations",
   "metadata": {},
   "source": [
    "There are several ways to run DGCCA in EHR dataset:\n",
    "\n",
    "1. Use each patient data as an example. Use diagnosis, procedure and medication as three different views of the tensor. See if people with similar diagnosis cluster?\n",
    "\n",
    "2. Use diagnosis vs procedure view. Each diagnosis is an example. Each procedure is a feature. \n",
    "\n",
    "3. Use diagnosis vs medication view.\n",
    "    "
   ]
  },
  {
   "cell_type": "code",
   "execution_count": null,
   "id": "verified-chaos",
   "metadata": {},
   "outputs": [],
   "source": [
    "Available model: dgcca_ehr_diag_med_fed_1"
   ]
  },
  {
   "cell_type": "code",
   "execution_count": 8,
   "id": "closing-arkansas",
   "metadata": {},
   "outputs": [
    {
     "ename": "NameError",
     "evalue": "name '_C' is not defined",
     "output_type": "error",
     "traceback": [
      "\u001b[0;31m---------------------------------------------------------------------------\u001b[0m",
      "\u001b[0;31mNameError\u001b[0m                                 Traceback (most recent call last)",
      "\u001b[0;32m<ipython-input-8-eb42ca6e4af3>\u001b[0m in \u001b[0;36m<module>\u001b[0;34m\u001b[0m\n\u001b[0;32m----> 1\u001b[0;31m \u001b[0;32mimport\u001b[0m \u001b[0mtorch\u001b[0m\u001b[0;34m\u001b[0m\u001b[0;34m\u001b[0m\u001b[0m\n\u001b[0m",
      "\u001b[0;32m/scratch/sagar/Projects/learn/compressai/venv/lib/python3.6/site-packages/torch/__init__.py\u001b[0m in \u001b[0;36m<module>\u001b[0;34m\u001b[0m\n\u001b[1;32m    226\u001b[0m \u001b[0;34m\u001b[0m\u001b[0m\n\u001b[1;32m    227\u001b[0m \u001b[0;34m\u001b[0m\u001b[0m\n\u001b[0;32m--> 228\u001b[0;31m __all__ += [name for name in dir(_C)\n\u001b[0m\u001b[1;32m    229\u001b[0m             \u001b[0;32mif\u001b[0m \u001b[0mname\u001b[0m\u001b[0;34m[\u001b[0m\u001b[0;36m0\u001b[0m\u001b[0;34m]\u001b[0m \u001b[0;34m!=\u001b[0m \u001b[0;34m'_'\u001b[0m \u001b[0;32mand\u001b[0m\u001b[0;34m\u001b[0m\u001b[0;34m\u001b[0m\u001b[0m\n\u001b[1;32m    230\u001b[0m             not name.endswith('Base')]\n",
      "\u001b[0;31mNameError\u001b[0m: name '_C' is not defined"
     ]
    }
   ],
   "source": [
    "import "
   ]
  },
  {
   "cell_type": "code",
   "execution_count": null,
   "id": "downtown-olympus",
   "metadata": {},
   "outputs": [],
   "source": [
    "ehr_dataset = EhrDataset(data_file='/scratch/sagar/Projects/federated_max_var_gcca/ehr/data/diag_med_frequent',\n",
    "                         shuffle=True)"
   ]
  },
  {
   "cell_type": "code",
   "execution_count": 2,
   "id": "pointed-court",
   "metadata": {},
   "outputs": [],
   "source": [
    "import torch"
   ]
  },
  {
   "cell_type": "code",
   "execution_count": 55,
   "id": "cognitive-messenger",
   "metadata": {},
   "outputs": [
    {
     "data": {
      "text/html": [
       "<div>\n",
       "<style scoped>\n",
       "    .dataframe tbody tr th:only-of-type {\n",
       "        vertical-align: middle;\n",
       "    }\n",
       "\n",
       "    .dataframe tbody tr th {\n",
       "        vertical-align: top;\n",
       "    }\n",
       "\n",
       "    .dataframe thead th {\n",
       "        text-align: right;\n",
       "    }\n",
       "</style>\n",
       "<table border=\"1\" class=\"dataframe\">\n",
       "  <thead>\n",
       "    <tr style=\"text-align: right;\">\n",
       "      <th></th>\n",
       "      <th>run_count</th>\n",
       "      <th>epoch</th>\n",
       "      <th>data_fidelity</th>\n",
       "      <th>lr</th>\n",
       "      <th>device</th>\n",
       "      <th>class_acc</th>\n",
       "    </tr>\n",
       "  </thead>\n",
       "  <tbody>\n",
       "    <tr>\n",
       "      <th>0</th>\n",
       "      <td>1</td>\n",
       "      <td>0</td>\n",
       "      <td>0.410136</td>\n",
       "      <td>0.0005</td>\n",
       "      <td>cuda</td>\n",
       "      <td>0.400</td>\n",
       "    </tr>\n",
       "    <tr>\n",
       "      <th>1</th>\n",
       "      <td>1</td>\n",
       "      <td>1</td>\n",
       "      <td>0.175413</td>\n",
       "      <td>0.0005</td>\n",
       "      <td>cuda</td>\n",
       "      <td>0.400</td>\n",
       "    </tr>\n",
       "    <tr>\n",
       "      <th>2</th>\n",
       "      <td>1</td>\n",
       "      <td>2</td>\n",
       "      <td>0.136687</td>\n",
       "      <td>0.0005</td>\n",
       "      <td>cuda</td>\n",
       "      <td>0.400</td>\n",
       "    </tr>\n",
       "    <tr>\n",
       "      <th>3</th>\n",
       "      <td>1</td>\n",
       "      <td>3</td>\n",
       "      <td>0.127301</td>\n",
       "      <td>0.0005</td>\n",
       "      <td>cuda</td>\n",
       "      <td>0.405</td>\n",
       "    </tr>\n",
       "    <tr>\n",
       "      <th>4</th>\n",
       "      <td>1</td>\n",
       "      <td>4</td>\n",
       "      <td>0.114873</td>\n",
       "      <td>0.0005</td>\n",
       "      <td>cuda</td>\n",
       "      <td>0.425</td>\n",
       "    </tr>\n",
       "    <tr>\n",
       "      <th>5</th>\n",
       "      <td>1</td>\n",
       "      <td>5</td>\n",
       "      <td>0.107455</td>\n",
       "      <td>0.0005</td>\n",
       "      <td>cuda</td>\n",
       "      <td>0.545</td>\n",
       "    </tr>\n",
       "    <tr>\n",
       "      <th>6</th>\n",
       "      <td>1</td>\n",
       "      <td>6</td>\n",
       "      <td>0.103142</td>\n",
       "      <td>0.0005</td>\n",
       "      <td>cuda</td>\n",
       "      <td>0.615</td>\n",
       "    </tr>\n",
       "    <tr>\n",
       "      <th>7</th>\n",
       "      <td>1</td>\n",
       "      <td>7</td>\n",
       "      <td>0.100968</td>\n",
       "      <td>0.0005</td>\n",
       "      <td>cuda</td>\n",
       "      <td>0.660</td>\n",
       "    </tr>\n",
       "    <tr>\n",
       "      <th>8</th>\n",
       "      <td>1</td>\n",
       "      <td>8</td>\n",
       "      <td>0.095101</td>\n",
       "      <td>0.0005</td>\n",
       "      <td>cuda</td>\n",
       "      <td>0.650</td>\n",
       "    </tr>\n",
       "    <tr>\n",
       "      <th>9</th>\n",
       "      <td>1</td>\n",
       "      <td>9</td>\n",
       "      <td>0.094624</td>\n",
       "      <td>0.0005</td>\n",
       "      <td>cuda</td>\n",
       "      <td>0.705</td>\n",
       "    </tr>\n",
       "    <tr>\n",
       "      <th>10</th>\n",
       "      <td>1</td>\n",
       "      <td>10</td>\n",
       "      <td>0.094787</td>\n",
       "      <td>0.0005</td>\n",
       "      <td>cuda</td>\n",
       "      <td>0.690</td>\n",
       "    </tr>\n",
       "    <tr>\n",
       "      <th>11</th>\n",
       "      <td>1</td>\n",
       "      <td>11</td>\n",
       "      <td>0.092558</td>\n",
       "      <td>0.0005</td>\n",
       "      <td>cuda</td>\n",
       "      <td>0.705</td>\n",
       "    </tr>\n",
       "    <tr>\n",
       "      <th>12</th>\n",
       "      <td>1</td>\n",
       "      <td>12</td>\n",
       "      <td>0.092870</td>\n",
       "      <td>0.0005</td>\n",
       "      <td>cuda</td>\n",
       "      <td>0.750</td>\n",
       "    </tr>\n",
       "    <tr>\n",
       "      <th>13</th>\n",
       "      <td>1</td>\n",
       "      <td>13</td>\n",
       "      <td>0.091278</td>\n",
       "      <td>0.0005</td>\n",
       "      <td>cuda</td>\n",
       "      <td>0.765</td>\n",
       "    </tr>\n",
       "    <tr>\n",
       "      <th>14</th>\n",
       "      <td>1</td>\n",
       "      <td>14</td>\n",
       "      <td>0.095788</td>\n",
       "      <td>0.0005</td>\n",
       "      <td>cuda</td>\n",
       "      <td>0.750</td>\n",
       "    </tr>\n",
       "    <tr>\n",
       "      <th>15</th>\n",
       "      <td>1</td>\n",
       "      <td>15</td>\n",
       "      <td>0.095382</td>\n",
       "      <td>0.0005</td>\n",
       "      <td>cuda</td>\n",
       "      <td>0.725</td>\n",
       "    </tr>\n",
       "    <tr>\n",
       "      <th>16</th>\n",
       "      <td>1</td>\n",
       "      <td>16</td>\n",
       "      <td>0.105696</td>\n",
       "      <td>0.0005</td>\n",
       "      <td>cuda</td>\n",
       "      <td>0.775</td>\n",
       "    </tr>\n",
       "    <tr>\n",
       "      <th>17</th>\n",
       "      <td>1</td>\n",
       "      <td>17</td>\n",
       "      <td>0.093376</td>\n",
       "      <td>0.0005</td>\n",
       "      <td>cuda</td>\n",
       "      <td>0.785</td>\n",
       "    </tr>\n",
       "    <tr>\n",
       "      <th>18</th>\n",
       "      <td>1</td>\n",
       "      <td>18</td>\n",
       "      <td>0.093334</td>\n",
       "      <td>0.0005</td>\n",
       "      <td>cuda</td>\n",
       "      <td>0.810</td>\n",
       "    </tr>\n",
       "    <tr>\n",
       "      <th>19</th>\n",
       "      <td>1</td>\n",
       "      <td>19</td>\n",
       "      <td>0.087621</td>\n",
       "      <td>0.0005</td>\n",
       "      <td>cuda</td>\n",
       "      <td>0.810</td>\n",
       "    </tr>\n",
       "    <tr>\n",
       "      <th>20</th>\n",
       "      <td>1</td>\n",
       "      <td>20</td>\n",
       "      <td>0.085178</td>\n",
       "      <td>0.0005</td>\n",
       "      <td>cuda</td>\n",
       "      <td>0.775</td>\n",
       "    </tr>\n",
       "    <tr>\n",
       "      <th>21</th>\n",
       "      <td>1</td>\n",
       "      <td>21</td>\n",
       "      <td>0.083108</td>\n",
       "      <td>0.0005</td>\n",
       "      <td>cuda</td>\n",
       "      <td>0.815</td>\n",
       "    </tr>\n",
       "    <tr>\n",
       "      <th>22</th>\n",
       "      <td>1</td>\n",
       "      <td>22</td>\n",
       "      <td>0.078603</td>\n",
       "      <td>0.0005</td>\n",
       "      <td>cuda</td>\n",
       "      <td>0.830</td>\n",
       "    </tr>\n",
       "    <tr>\n",
       "      <th>23</th>\n",
       "      <td>1</td>\n",
       "      <td>23</td>\n",
       "      <td>0.075920</td>\n",
       "      <td>0.0005</td>\n",
       "      <td>cuda</td>\n",
       "      <td>0.795</td>\n",
       "    </tr>\n",
       "    <tr>\n",
       "      <th>24</th>\n",
       "      <td>1</td>\n",
       "      <td>24</td>\n",
       "      <td>0.078202</td>\n",
       "      <td>0.0005</td>\n",
       "      <td>cuda</td>\n",
       "      <td>0.790</td>\n",
       "    </tr>\n",
       "    <tr>\n",
       "      <th>25</th>\n",
       "      <td>1</td>\n",
       "      <td>25</td>\n",
       "      <td>0.075876</td>\n",
       "      <td>0.0005</td>\n",
       "      <td>cuda</td>\n",
       "      <td>0.795</td>\n",
       "    </tr>\n",
       "    <tr>\n",
       "      <th>26</th>\n",
       "      <td>1</td>\n",
       "      <td>26</td>\n",
       "      <td>0.074236</td>\n",
       "      <td>0.0005</td>\n",
       "      <td>cuda</td>\n",
       "      <td>0.795</td>\n",
       "    </tr>\n",
       "    <tr>\n",
       "      <th>27</th>\n",
       "      <td>1</td>\n",
       "      <td>27</td>\n",
       "      <td>0.079093</td>\n",
       "      <td>0.0005</td>\n",
       "      <td>cuda</td>\n",
       "      <td>0.805</td>\n",
       "    </tr>\n",
       "    <tr>\n",
       "      <th>28</th>\n",
       "      <td>1</td>\n",
       "      <td>28</td>\n",
       "      <td>0.079570</td>\n",
       "      <td>0.0005</td>\n",
       "      <td>cuda</td>\n",
       "      <td>0.810</td>\n",
       "    </tr>\n",
       "    <tr>\n",
       "      <th>29</th>\n",
       "      <td>1</td>\n",
       "      <td>29</td>\n",
       "      <td>0.076208</td>\n",
       "      <td>0.0005</td>\n",
       "      <td>cuda</td>\n",
       "      <td>0.820</td>\n",
       "    </tr>\n",
       "  </tbody>\n",
       "</table>\n",
       "</div>"
      ],
      "text/plain": [
       "    run_count  epoch  data_fidelity      lr device  class_acc\n",
       "0           1      0       0.410136  0.0005   cuda      0.400\n",
       "1           1      1       0.175413  0.0005   cuda      0.400\n",
       "2           1      2       0.136687  0.0005   cuda      0.400\n",
       "3           1      3       0.127301  0.0005   cuda      0.405\n",
       "4           1      4       0.114873  0.0005   cuda      0.425\n",
       "5           1      5       0.107455  0.0005   cuda      0.545\n",
       "6           1      6       0.103142  0.0005   cuda      0.615\n",
       "7           1      7       0.100968  0.0005   cuda      0.660\n",
       "8           1      8       0.095101  0.0005   cuda      0.650\n",
       "9           1      9       0.094624  0.0005   cuda      0.705\n",
       "10          1     10       0.094787  0.0005   cuda      0.690\n",
       "11          1     11       0.092558  0.0005   cuda      0.705\n",
       "12          1     12       0.092870  0.0005   cuda      0.750\n",
       "13          1     13       0.091278  0.0005   cuda      0.765\n",
       "14          1     14       0.095788  0.0005   cuda      0.750\n",
       "15          1     15       0.095382  0.0005   cuda      0.725\n",
       "16          1     16       0.105696  0.0005   cuda      0.775\n",
       "17          1     17       0.093376  0.0005   cuda      0.785\n",
       "18          1     18       0.093334  0.0005   cuda      0.810\n",
       "19          1     19       0.087621  0.0005   cuda      0.810\n",
       "20          1     20       0.085178  0.0005   cuda      0.775\n",
       "21          1     21       0.083108  0.0005   cuda      0.815\n",
       "22          1     22       0.078603  0.0005   cuda      0.830\n",
       "23          1     23       0.075920  0.0005   cuda      0.795\n",
       "24          1     24       0.078202  0.0005   cuda      0.790\n",
       "25          1     25       0.075876  0.0005   cuda      0.795\n",
       "26          1     26       0.074236  0.0005   cuda      0.795\n",
       "27          1     27       0.079093  0.0005   cuda      0.805\n",
       "28          1     28       0.079570  0.0005   cuda      0.810\n",
       "29          1     29       0.076208  0.0005   cuda      0.820"
      ]
     },
     "metadata": {},
     "output_type": "display_data"
    },
    {
     "name": "stderr",
     "output_type": "stream",
     "text": [
      "100%|██████████| 30/30 [00:14<00:00,  2.13it/s]\n"
     ]
    }
   ],
   "source": [
    "from collections import OrderedDict, namedtuple\n",
    "from itertools import product\n",
    "import argparse\n",
    "from tqdm import tqdm, trange\n",
    "from IPython.display import clear_output\n",
    "import torch.nn as nn\n",
    "import pandas as pd\n",
    "import torch\n",
    "import matplotlib.pyplot as plt\n",
    "from dgcca.utils.run_manager import RunBuilder\n",
    "from dgcca.models import g_step, DeepGCCA\n",
    "import pprint as pp\n",
    "from dgcca.utils.compressor import qsgd\n",
    "from dgcca.ehr.dataset_ehr import EhrDataset\n",
    "\n",
    "from sklearn.datasets import make_classification\n",
    "from sklearn.model_selection import train_test_split\n",
    "from sklearn import svm\n",
    "from sklearn.metrics import accuracy_score\n",
    "import random\n",
    "import numpy as np\n",
    "\n",
    "if torch.cuda.is_available():\n",
    "    devices = ['cuda']\n",
    "else:\n",
    "    devices = ['cpu']\n",
    "\n",
    "parser = argparse.ArgumentParser(description=\"Toy 2d DGCCA\")\n",
    "\n",
    "# Data\n",
    "parser.add_argument('--model_dest', default='trained_models/dgcca_ehr_cutemaxvar1.model', help=\"Destination model path\")\n",
    "parser.add_argument('--random_seed', default=1000, help='')\n",
    "parser.add_argument('--test_size', default=200, help='')\n",
    "\n",
    "args = vars(parser.parse_args(args = []))\n",
    "pp.pprint(args)\n",
    "\n",
    "# Set the random seed\n",
    "torch.manual_seed(int(args['random_seed']))\n",
    "\n",
    "params = OrderedDict(\n",
    "    lr = [0.0005],\n",
    "    batch_size = [250],\n",
    "    device = devices,\n",
    "    shuffle = [True],\n",
    "    num_workers = [5],\n",
    "    manual_seed = [1265],\n",
    "    loss_func = [nn.MSELoss],\n",
    "    inner_epochs = [10],\n",
    "    quant = [True], \n",
    "    rand_compress=[True], \n",
    "    n_bits=[4], \n",
    "    \n",
    ")\n",
    "\n",
    "# mat, labeled_data = torch.load('/scratch/sagar/Projects/federated_max_var_gcca/ehr/data/combined_views')\n",
    "\n",
    "ehr_dataset = EhrDataset(data_file='/scratch/sagar/Projects/federated_max_var_gcca/ehr/data/diag_med_frequent',\n",
    "                         shuffle=True)\n",
    "# ehr_dataset = EhrDataset(data_file='/scratch/sagar/Projects/federated_max_var_gcca/ehr/data/diag_med_1045',\n",
    "#                          shuffle=True)\n",
    "all_data = list(ehr_dataset.x)\n",
    "mat = ehr_dataset.x[:, :-args['test_size'], :]\n",
    "layer_sizes_list = 3*[[512, 256, 20]]\n",
    "input_size_list = 3*[mat[0].shape[1]]\n",
    "\n",
    "run_count = 0\n",
    "models = []\n",
    "\n",
    "run_data = []\n",
    "\n",
    "data_load_time = 0\n",
    "forward_time = 0\n",
    "\n",
    "test_data = ehr_dataset.x[:, -200:, :]\n",
    "test_views = [item.double() for item in test_data]\n",
    "y_test = ehr_dataset.y[-200:]\n",
    "y_train = ehr_dataset.y[:-200]\n",
    "\n",
    "indices = list(np.arange(mat[0].shape[0]))\n",
    "\n",
    "for run in RunBuilder.get_runs(params):\n",
    "  \n",
    "    run_count += 1\n",
    "    device = torch.device(run.device)\n",
    "    \n",
    "    dgcca = DeepGCCA(layer_sizes_list, input_size_list)\n",
    "    dgcca = dgcca.to(device)\n",
    "        \n",
    "    train_views = [item.double().to(device) for item in mat]\n",
    "#     train_views = list(ehr_dataset.x.to(device))\n",
    "    optimizer = torch.optim.Adam(dgcca.parameters(), lr=run.lr)\n",
    "    \n",
    "    J = train_views[0].shape[0]\n",
    "    \n",
    "    criterion = run.loss_func()\n",
    "    \n",
    "    # init G\n",
    "    dgcca.eval()\n",
    "    out = dgcca(train_views)\n",
    "    out = torch.stack(out)  \n",
    "    out -= out.mean(dim=1).unsqueeze(dim=1)\n",
    "    G = g_step(out.clone().detach())  \n",
    "    M_serv = out.clone()\n",
    "    M_diff = out.clone()\n",
    "    dgcca.train()\n",
    "    G_serv = G.clone().to('cuda')\n",
    "    for epoch in trange(30):\n",
    "        total_recons_loss = 0\n",
    "        total_val_loss = 0\n",
    "        batch_count = 0\n",
    "        \n",
    "        for j in range(run.inner_epochs):\n",
    "\n",
    "            optimizer.zero_grad()\n",
    "            \n",
    "            rand_samp = random.sample(indices, run.batch_size)\n",
    "            \n",
    "            # SGD\n",
    "            batch = [view[rand_samp,:] for view in train_views]\n",
    "            target = G[rand_samp, :]\n",
    "\n",
    "#             # full gradient\n",
    "#             batch = train_views\n",
    "#             target = G\n",
    "            \n",
    "            out = dgcca(batch)\n",
    "            out = torch.stack(out)  \n",
    "\n",
    "            loss = 1/2*torch.norm(out-target)/target.shape[0]\n",
    "\n",
    "            loss.backward()\n",
    "            optimizer.step()\n",
    "\n",
    "            total_recons_loss += loss.item()\n",
    "            del batch, target\n",
    "        ## Update G\n",
    "        dgcca.train()\n",
    "        out = dgcca(train_views)\n",
    "        out = torch.stack(out)\n",
    "        if run.quant:\n",
    "            for i in range(len(train_views)):\n",
    "                M_diff[i] = out[i] - M_serv[i]\n",
    "                max_val = M_diff[i].abs().max()\n",
    "                \n",
    "                if run.rand_compress:\n",
    "                    M_quant = qsgd(M_diff[i], n_bits=run.n_bits).to(device)\n",
    "                else:\n",
    "                    M_quant = ((1/max_val)*M_diff[i]).round()*(max_val/1)\n",
    "                    \n",
    "                M_serv[i] += M_quant\n",
    "                M_serv[i] -= M_serv[i].mean(dim=0)\n",
    "                del M_quant, max_val\n",
    "            G = g_step(M_serv.clone().detach()) \n",
    "            G_serv = G_serv + qsgd(G-G_serv).to(device)\n",
    "        else:\n",
    "            out = out - out.mean(dim=1).unsqueeze(dim=1)\n",
    "            G = g_step(out.clone().detach())  \n",
    "        del out\n",
    "        dgcca.train()\n",
    "        \n",
    "        # classification for distributed method\n",
    "        clf = svm.SVC(kernel='rbf')\n",
    "        clf.fit(G.to('cpu').numpy(), y_train)\n",
    "\n",
    "        results = OrderedDict()\n",
    "        results['run_count'] = run_count\n",
    "        results['epoch'] = epoch\n",
    "        results['data_fidelity'] = total_recons_loss\n",
    "        results['lr'] = run.lr\n",
    "        results['device'] = run.device\n",
    "\n",
    "        dgcca = dgcca.to('cpu')\n",
    "        out = torch.stack(dgcca(test_views))  \n",
    "        out -= out.mean(dim=1).unsqueeze(dim=1)\n",
    "        G_test = g_step(out.to('cpu').clone().detach())  \n",
    "\n",
    "        results['class_acc'] = accuracy_score(y_test.numpy(), clf.predict(G_test.numpy()))\n",
    "        dgcca = dgcca.to('cuda')\n",
    "                          \n",
    "        run_data.append(results)\n",
    "        df_cute = pd.DataFrame.from_dict(run_data, orient='columns')\n",
    "        clear_output(wait=True)\n",
    "        display(df_cute)\n",
    "\n",
    "        torch.save(dgcca, args['model_dest'])"
   ]
  },
  {
   "cell_type": "code",
   "execution_count": 67,
   "id": "vietnamese-description",
   "metadata": {},
   "outputs": [
    {
     "data": {
      "text/html": [
       "<div>\n",
       "<style scoped>\n",
       "    .dataframe tbody tr th:only-of-type {\n",
       "        vertical-align: middle;\n",
       "    }\n",
       "\n",
       "    .dataframe tbody tr th {\n",
       "        vertical-align: top;\n",
       "    }\n",
       "\n",
       "    .dataframe thead th {\n",
       "        text-align: right;\n",
       "    }\n",
       "</style>\n",
       "<table border=\"1\" class=\"dataframe\">\n",
       "  <thead>\n",
       "    <tr style=\"text-align: right;\">\n",
       "      <th></th>\n",
       "      <th>epoch</th>\n",
       "      <th>data_fidelity</th>\n",
       "      <th>lr</th>\n",
       "      <th>device</th>\n",
       "      <th>class_acc</th>\n",
       "    </tr>\n",
       "  </thead>\n",
       "  <tbody>\n",
       "    <tr>\n",
       "      <th>0</th>\n",
       "      <td>0</td>\n",
       "      <td>0.341807</td>\n",
       "      <td>0.0005</td>\n",
       "      <td>cuda</td>\n",
       "      <td>0.380</td>\n",
       "    </tr>\n",
       "    <tr>\n",
       "      <th>1</th>\n",
       "      <td>1</td>\n",
       "      <td>0.137923</td>\n",
       "      <td>0.0005</td>\n",
       "      <td>cuda</td>\n",
       "      <td>0.495</td>\n",
       "    </tr>\n",
       "    <tr>\n",
       "      <th>2</th>\n",
       "      <td>2</td>\n",
       "      <td>0.086936</td>\n",
       "      <td>0.0005</td>\n",
       "      <td>cuda</td>\n",
       "      <td>0.515</td>\n",
       "    </tr>\n",
       "    <tr>\n",
       "      <th>3</th>\n",
       "      <td>3</td>\n",
       "      <td>0.073408</td>\n",
       "      <td>0.0005</td>\n",
       "      <td>cuda</td>\n",
       "      <td>0.595</td>\n",
       "    </tr>\n",
       "    <tr>\n",
       "      <th>4</th>\n",
       "      <td>4</td>\n",
       "      <td>0.069782</td>\n",
       "      <td>0.0005</td>\n",
       "      <td>cuda</td>\n",
       "      <td>0.650</td>\n",
       "    </tr>\n",
       "    <tr>\n",
       "      <th>5</th>\n",
       "      <td>5</td>\n",
       "      <td>0.065412</td>\n",
       "      <td>0.0005</td>\n",
       "      <td>cuda</td>\n",
       "      <td>0.660</td>\n",
       "    </tr>\n",
       "    <tr>\n",
       "      <th>6</th>\n",
       "      <td>6</td>\n",
       "      <td>0.065228</td>\n",
       "      <td>0.0005</td>\n",
       "      <td>cuda</td>\n",
       "      <td>0.625</td>\n",
       "    </tr>\n",
       "    <tr>\n",
       "      <th>7</th>\n",
       "      <td>7</td>\n",
       "      <td>0.062197</td>\n",
       "      <td>0.0005</td>\n",
       "      <td>cuda</td>\n",
       "      <td>0.590</td>\n",
       "    </tr>\n",
       "    <tr>\n",
       "      <th>8</th>\n",
       "      <td>8</td>\n",
       "      <td>0.059329</td>\n",
       "      <td>0.0005</td>\n",
       "      <td>cuda</td>\n",
       "      <td>0.645</td>\n",
       "    </tr>\n",
       "    <tr>\n",
       "      <th>9</th>\n",
       "      <td>9</td>\n",
       "      <td>0.056511</td>\n",
       "      <td>0.0005</td>\n",
       "      <td>cuda</td>\n",
       "      <td>0.660</td>\n",
       "    </tr>\n",
       "    <tr>\n",
       "      <th>10</th>\n",
       "      <td>10</td>\n",
       "      <td>0.056351</td>\n",
       "      <td>0.0005</td>\n",
       "      <td>cuda</td>\n",
       "      <td>0.640</td>\n",
       "    </tr>\n",
       "    <tr>\n",
       "      <th>11</th>\n",
       "      <td>11</td>\n",
       "      <td>0.054520</td>\n",
       "      <td>0.0005</td>\n",
       "      <td>cuda</td>\n",
       "      <td>0.675</td>\n",
       "    </tr>\n",
       "    <tr>\n",
       "      <th>12</th>\n",
       "      <td>12</td>\n",
       "      <td>0.054232</td>\n",
       "      <td>0.0005</td>\n",
       "      <td>cuda</td>\n",
       "      <td>0.685</td>\n",
       "    </tr>\n",
       "    <tr>\n",
       "      <th>13</th>\n",
       "      <td>13</td>\n",
       "      <td>0.052986</td>\n",
       "      <td>0.0005</td>\n",
       "      <td>cuda</td>\n",
       "      <td>0.670</td>\n",
       "    </tr>\n",
       "    <tr>\n",
       "      <th>14</th>\n",
       "      <td>14</td>\n",
       "      <td>0.051015</td>\n",
       "      <td>0.0005</td>\n",
       "      <td>cuda</td>\n",
       "      <td>0.665</td>\n",
       "    </tr>\n",
       "    <tr>\n",
       "      <th>15</th>\n",
       "      <td>15</td>\n",
       "      <td>0.051056</td>\n",
       "      <td>0.0005</td>\n",
       "      <td>cuda</td>\n",
       "      <td>0.655</td>\n",
       "    </tr>\n",
       "    <tr>\n",
       "      <th>16</th>\n",
       "      <td>16</td>\n",
       "      <td>0.051699</td>\n",
       "      <td>0.0005</td>\n",
       "      <td>cuda</td>\n",
       "      <td>0.700</td>\n",
       "    </tr>\n",
       "    <tr>\n",
       "      <th>17</th>\n",
       "      <td>17</td>\n",
       "      <td>0.051944</td>\n",
       "      <td>0.0005</td>\n",
       "      <td>cuda</td>\n",
       "      <td>0.690</td>\n",
       "    </tr>\n",
       "    <tr>\n",
       "      <th>18</th>\n",
       "      <td>18</td>\n",
       "      <td>0.048859</td>\n",
       "      <td>0.0005</td>\n",
       "      <td>cuda</td>\n",
       "      <td>0.660</td>\n",
       "    </tr>\n",
       "    <tr>\n",
       "      <th>19</th>\n",
       "      <td>19</td>\n",
       "      <td>0.047192</td>\n",
       "      <td>0.0005</td>\n",
       "      <td>cuda</td>\n",
       "      <td>0.705</td>\n",
       "    </tr>\n",
       "    <tr>\n",
       "      <th>20</th>\n",
       "      <td>20</td>\n",
       "      <td>0.045582</td>\n",
       "      <td>0.0005</td>\n",
       "      <td>cuda</td>\n",
       "      <td>0.685</td>\n",
       "    </tr>\n",
       "    <tr>\n",
       "      <th>21</th>\n",
       "      <td>21</td>\n",
       "      <td>0.045125</td>\n",
       "      <td>0.0005</td>\n",
       "      <td>cuda</td>\n",
       "      <td>0.685</td>\n",
       "    </tr>\n",
       "    <tr>\n",
       "      <th>22</th>\n",
       "      <td>22</td>\n",
       "      <td>0.044763</td>\n",
       "      <td>0.0005</td>\n",
       "      <td>cuda</td>\n",
       "      <td>0.700</td>\n",
       "    </tr>\n",
       "    <tr>\n",
       "      <th>23</th>\n",
       "      <td>23</td>\n",
       "      <td>0.042260</td>\n",
       "      <td>0.0005</td>\n",
       "      <td>cuda</td>\n",
       "      <td>0.675</td>\n",
       "    </tr>\n",
       "    <tr>\n",
       "      <th>24</th>\n",
       "      <td>24</td>\n",
       "      <td>0.042682</td>\n",
       "      <td>0.0005</td>\n",
       "      <td>cuda</td>\n",
       "      <td>0.685</td>\n",
       "    </tr>\n",
       "    <tr>\n",
       "      <th>25</th>\n",
       "      <td>25</td>\n",
       "      <td>0.040499</td>\n",
       "      <td>0.0005</td>\n",
       "      <td>cuda</td>\n",
       "      <td>0.680</td>\n",
       "    </tr>\n",
       "    <tr>\n",
       "      <th>26</th>\n",
       "      <td>26</td>\n",
       "      <td>0.041634</td>\n",
       "      <td>0.0005</td>\n",
       "      <td>cuda</td>\n",
       "      <td>0.690</td>\n",
       "    </tr>\n",
       "    <tr>\n",
       "      <th>27</th>\n",
       "      <td>27</td>\n",
       "      <td>0.040214</td>\n",
       "      <td>0.0005</td>\n",
       "      <td>cuda</td>\n",
       "      <td>0.695</td>\n",
       "    </tr>\n",
       "    <tr>\n",
       "      <th>28</th>\n",
       "      <td>28</td>\n",
       "      <td>0.037810</td>\n",
       "      <td>0.0005</td>\n",
       "      <td>cuda</td>\n",
       "      <td>0.680</td>\n",
       "    </tr>\n",
       "    <tr>\n",
       "      <th>29</th>\n",
       "      <td>29</td>\n",
       "      <td>0.037101</td>\n",
       "      <td>0.0005</td>\n",
       "      <td>cuda</td>\n",
       "      <td>0.695</td>\n",
       "    </tr>\n",
       "    <tr>\n",
       "      <th>30</th>\n",
       "      <td>30</td>\n",
       "      <td>0.036800</td>\n",
       "      <td>0.0005</td>\n",
       "      <td>cuda</td>\n",
       "      <td>0.700</td>\n",
       "    </tr>\n",
       "    <tr>\n",
       "      <th>31</th>\n",
       "      <td>31</td>\n",
       "      <td>0.034833</td>\n",
       "      <td>0.0005</td>\n",
       "      <td>cuda</td>\n",
       "      <td>0.695</td>\n",
       "    </tr>\n",
       "    <tr>\n",
       "      <th>32</th>\n",
       "      <td>32</td>\n",
       "      <td>0.034769</td>\n",
       "      <td>0.0005</td>\n",
       "      <td>cuda</td>\n",
       "      <td>0.685</td>\n",
       "    </tr>\n",
       "    <tr>\n",
       "      <th>33</th>\n",
       "      <td>33</td>\n",
       "      <td>0.036331</td>\n",
       "      <td>0.0005</td>\n",
       "      <td>cuda</td>\n",
       "      <td>0.680</td>\n",
       "    </tr>\n",
       "    <tr>\n",
       "      <th>34</th>\n",
       "      <td>34</td>\n",
       "      <td>0.035406</td>\n",
       "      <td>0.0005</td>\n",
       "      <td>cuda</td>\n",
       "      <td>0.640</td>\n",
       "    </tr>\n",
       "    <tr>\n",
       "      <th>35</th>\n",
       "      <td>35</td>\n",
       "      <td>0.033903</td>\n",
       "      <td>0.0005</td>\n",
       "      <td>cuda</td>\n",
       "      <td>0.675</td>\n",
       "    </tr>\n",
       "    <tr>\n",
       "      <th>36</th>\n",
       "      <td>36</td>\n",
       "      <td>0.031815</td>\n",
       "      <td>0.0005</td>\n",
       "      <td>cuda</td>\n",
       "      <td>0.665</td>\n",
       "    </tr>\n",
       "    <tr>\n",
       "      <th>37</th>\n",
       "      <td>37</td>\n",
       "      <td>0.031729</td>\n",
       "      <td>0.0005</td>\n",
       "      <td>cuda</td>\n",
       "      <td>0.670</td>\n",
       "    </tr>\n",
       "    <tr>\n",
       "      <th>38</th>\n",
       "      <td>38</td>\n",
       "      <td>0.033366</td>\n",
       "      <td>0.0005</td>\n",
       "      <td>cuda</td>\n",
       "      <td>0.665</td>\n",
       "    </tr>\n",
       "    <tr>\n",
       "      <th>39</th>\n",
       "      <td>39</td>\n",
       "      <td>0.033987</td>\n",
       "      <td>0.0005</td>\n",
       "      <td>cuda</td>\n",
       "      <td>0.715</td>\n",
       "    </tr>\n",
       "  </tbody>\n",
       "</table>\n",
       "</div>"
      ],
      "text/plain": [
       "    epoch  data_fidelity      lr device  class_acc\n",
       "0       0       0.341807  0.0005   cuda      0.380\n",
       "1       1       0.137923  0.0005   cuda      0.495\n",
       "2       2       0.086936  0.0005   cuda      0.515\n",
       "3       3       0.073408  0.0005   cuda      0.595\n",
       "4       4       0.069782  0.0005   cuda      0.650\n",
       "5       5       0.065412  0.0005   cuda      0.660\n",
       "6       6       0.065228  0.0005   cuda      0.625\n",
       "7       7       0.062197  0.0005   cuda      0.590\n",
       "8       8       0.059329  0.0005   cuda      0.645\n",
       "9       9       0.056511  0.0005   cuda      0.660\n",
       "10     10       0.056351  0.0005   cuda      0.640\n",
       "11     11       0.054520  0.0005   cuda      0.675\n",
       "12     12       0.054232  0.0005   cuda      0.685\n",
       "13     13       0.052986  0.0005   cuda      0.670\n",
       "14     14       0.051015  0.0005   cuda      0.665\n",
       "15     15       0.051056  0.0005   cuda      0.655\n",
       "16     16       0.051699  0.0005   cuda      0.700\n",
       "17     17       0.051944  0.0005   cuda      0.690\n",
       "18     18       0.048859  0.0005   cuda      0.660\n",
       "19     19       0.047192  0.0005   cuda      0.705\n",
       "20     20       0.045582  0.0005   cuda      0.685\n",
       "21     21       0.045125  0.0005   cuda      0.685\n",
       "22     22       0.044763  0.0005   cuda      0.700\n",
       "23     23       0.042260  0.0005   cuda      0.675\n",
       "24     24       0.042682  0.0005   cuda      0.685\n",
       "25     25       0.040499  0.0005   cuda      0.680\n",
       "26     26       0.041634  0.0005   cuda      0.690\n",
       "27     27       0.040214  0.0005   cuda      0.695\n",
       "28     28       0.037810  0.0005   cuda      0.680\n",
       "29     29       0.037101  0.0005   cuda      0.695\n",
       "30     30       0.036800  0.0005   cuda      0.700\n",
       "31     31       0.034833  0.0005   cuda      0.695\n",
       "32     32       0.034769  0.0005   cuda      0.685\n",
       "33     33       0.036331  0.0005   cuda      0.680\n",
       "34     34       0.035406  0.0005   cuda      0.640\n",
       "35     35       0.033903  0.0005   cuda      0.675\n",
       "36     36       0.031815  0.0005   cuda      0.665\n",
       "37     37       0.031729  0.0005   cuda      0.670\n",
       "38     38       0.033366  0.0005   cuda      0.665\n",
       "39     39       0.033987  0.0005   cuda      0.715"
      ]
     },
     "metadata": {},
     "output_type": "display_data"
    },
    {
     "name": "stderr",
     "output_type": "stream",
     "text": [
      "100%|██████████| 40/40 [00:19<00:00,  2.03it/s]\n"
     ]
    }
   ],
   "source": [
    "from collections import OrderedDict, namedtuple\n",
    "from itertools import product\n",
    "import argparse\n",
    "from tqdm import tqdm, trange\n",
    "from IPython.display import clear_output\n",
    "import torch.nn as nn\n",
    "import pandas as pd\n",
    "import torch\n",
    "import matplotlib.pyplot as plt\n",
    "from dgcca.utils.run_manager import RunBuilder\n",
    "from dgcca.models import g_step, DeepGCCA\n",
    "import pprint as pp\n",
    "from dgcca.utils.compressor import qsgd\n",
    "from dgcca.ehr.dataset_ehr import EhrDataset\n",
    "\n",
    "from sklearn.datasets import make_classification\n",
    "from sklearn.model_selection import train_test_split\n",
    "from sklearn import svm\n",
    "from sklearn.metrics import accuracy_score\n",
    "import random\n",
    "import numpy as np\n",
    "import math\n",
    "\n",
    "if torch.cuda.is_available():\n",
    "    devices = ['cuda']\n",
    "else:\n",
    "    devices = ['cpu']\n",
    "\n",
    "parser = argparse.ArgumentParser(description=\"Toy 2d DGCCA\")\n",
    "\n",
    "# Data\n",
    "parser.add_argument('--model_dest', default='trained_models/dgcca_ehr_altmaxvar.model', help=\"Destination model path\")\n",
    "parser.add_argument('--random_seed', default=5555, help='')\n",
    "parser.add_argument('--compress', default=True, help='')\n",
    "parser.add_argument('--compression_scheme', default='qsgd', help='')\n",
    "parser.add_argument('--compress_downlink', default=True, help='')\n",
    "parser.add_argument('--batch_size', default=250, help='')\n",
    "parser.add_argument('--lr', default=0.0005, help='')\n",
    "parser.add_argument('--device', default='cuda', help='')\n",
    "parser.add_argument('--inner_epochs', default=10, help='')\n",
    "parser.add_argument('--shuffle', default=True, help='')\n",
    "parser.add_argument('--nbits', default=4, help='')\n",
    "parser.add_argument('--num_epochs', default=40, help='')\n",
    "parser.add_argument('--n_trials', default=10, help='')\n",
    "parser.add_argument('--test_size', default=200, help='')\n",
    "\n",
    "\n",
    "args = vars(parser.parse_args(args = []))\n",
    "pp.pprint(args)\n",
    "\n",
    "\n",
    "\n",
    "device = torch.device(args['device'])\n",
    "num_workers = 5\n",
    "loss_func = nn.MSELoss\n",
    "\n",
    "num_batches = math.ceil(527/args['batch_size'])\n",
    "acc = np.zeros( (2, args['n_trials'], args['num_epochs']))\n",
    "\n",
    "ehr_dataset = EhrDataset(data_file='/scratch/sagar/Projects/federated_max_var_gcca/ehr/data/diag_med_frequent',\n",
    "                            shuffle=True)\n",
    "mat = ehr_dataset.x[:, :-args['test_size'], :]\n",
    "test_data = ehr_dataset.x[:, -args['test_size']:, :]\n",
    "test_views = [item.double() for item in test_data]\n",
    "y_test = ehr_dataset.y[-args['test_size']:]\n",
    "y_train = ehr_dataset.y[:-args['test_size']]\n",
    "\n",
    "# Set the random seed\n",
    "torch.manual_seed(int(args['random_seed']))\n",
    "layer_sizes_list = 3*[[512,256,128,64,10]]\n",
    "input_size_list = 3*[mat[0].shape[1]]\n",
    "\n",
    "compression_exp = [True, False]\n",
    "\n",
    "# bits_schedule = [6,6,6,6]\n",
    "\n",
    "for compress_id in range(len(compression_exp)):\n",
    "    args['compress'] = compression_exp[compress_id]\n",
    "    \n",
    "    for trial_id in range(args['n_trials']):\n",
    "\n",
    "        run_count = 0\n",
    "        models = []\n",
    "        run_data = []\n",
    "\n",
    "        data_load_time = 0\n",
    "        forward_time = 0\n",
    "\n",
    "        indices = list(np.arange(mat[0].shape[0]))\n",
    "\n",
    "        dgcca = DeepGCCA(layer_sizes_list, input_size_list)\n",
    "        dgcca = dgcca.to(device)\n",
    "\n",
    "        train_views = [item.double().to('cpu') for item in mat]\n",
    "    #     train_views = list(ehr_dataset.x.to(device))\n",
    "        optimizer = torch.optim.Adam(dgcca.parameters(), lr=args['lr'])\n",
    "\n",
    "        J = train_views[0].shape[0]\n",
    "\n",
    "        criterion = loss_func()\n",
    "\n",
    "        # init G\n",
    "        dgcca.eval()\n",
    "        dgcca = dgcca.to('cpu')\n",
    "        out = dgcca(train_views)\n",
    "        out = torch.stack(out)  \n",
    "        out -= out.mean(dim=1).unsqueeze(dim=1)\n",
    "        G = g_step(out.clone().detach())  \n",
    "        M_serv = out.clone()\n",
    "        M_diff = out.clone()\n",
    "        dgcca.train()\n",
    "        G_serv = G.clone()\n",
    "        \n",
    "        dgcca = dgcca.to(device)\n",
    "        for epoch in trange(args['num_epochs']):\n",
    "            total_recons_loss = 0\n",
    "            total_val_loss = 0\n",
    "            batch_count = 0\n",
    "#             if epoch < 5:\n",
    "#                 args['nbits'] = 4\n",
    "#             else:\n",
    "#                 args['nbits'] = 4\n",
    "                \n",
    "            for j in range(args['inner_epochs']):\n",
    "    #             for i in range(num_batches):\n",
    "                optimizer.zero_grad()\n",
    "                batch = []\n",
    "\n",
    "    #             batch_id = i%(num_batches)\n",
    "    #             print(batch_id)\n",
    "                # SGD\n",
    "    #                 try:\n",
    "    #                     batch = [view[(batch_id*args['batch_size']):((batch_id+1)*args['batch_size']), :] for view in train_views]            \n",
    "    #                     target = G_serv[(batch_id*args['batch_size']):((batch_id+1)*args['batch_size']), :]\n",
    "    #                 except:\n",
    "    #                     batch = [view[(batch_id*args['batch_size']):, :] for view in train_views]            \n",
    "    #                     target = G_serv[(batch_id*args['batch_size']):, :]\n",
    "\n",
    "                # SGD\n",
    "                rand_samp = random.sample(indices, args['batch_size'])\n",
    "                batch = [view[rand_samp,:].to(device) for view in train_views]\n",
    "                target = G[rand_samp, :].to(device)\n",
    "\n",
    "                out = dgcca(batch)\n",
    "                out = torch.stack(out)  \n",
    "\n",
    "                loss = 1/2*torch.norm(out-target)/target.shape[0]\n",
    "\n",
    "                loss.backward()\n",
    "                optimizer.step()\n",
    "\n",
    "                total_recons_loss += loss.item()\n",
    "                del batch, target\n",
    "            ## Update G\n",
    "            dgcca = dgcca.to('cpu')\n",
    "            dgcca.eval()\n",
    "            out = dgcca(train_views)\n",
    "            out = torch.stack(out)\n",
    "            if args['compress']:\n",
    "                for i in range(len(train_views)):\n",
    "                    M_diff[i] = out[i] - M_serv[i]\n",
    "                    max_val = M_diff[i].abs().max()\n",
    "\n",
    "                    if args['compression_scheme'] == 'qsgd':\n",
    "                        M_quant = qsgd(M_diff[i], n_bits=args['nbits'])\n",
    "                    else:\n",
    "                        M_quant = ((1/max_val)*M_diff[i]).round()*(max_val/1)\n",
    "\n",
    "                    M_serv[i] += M_quant\n",
    "                    M_serv[i] -= M_serv[i].mean(dim=0)\n",
    "                    del M_quant, max_val\n",
    "                G = g_step(M_serv.clone().detach()) \n",
    "                G_serv = G_serv + qsgd(G-G_serv, n_bits=args['nbits'])\n",
    "            else:\n",
    "                out = out - out.mean(dim=1).unsqueeze(dim=1)\n",
    "                G = g_step(out.clone().detach())  \n",
    "            del out\n",
    "            dgcca.train()\n",
    "\n",
    "            # classification for distributed method\n",
    "            clf = svm.SVC(kernel='rbf')\n",
    "            clf.fit(G.to('cpu').numpy(), y_train)\n",
    "\n",
    "            results = OrderedDict()\n",
    "            results['epoch'] = epoch\n",
    "            results['data_fidelity'] = total_recons_loss\n",
    "            results['lr'] = args['lr']\n",
    "            results['device'] = device\n",
    "\n",
    "            dgcca = dgcca.to('cpu')\n",
    "            out = torch.stack(dgcca(test_views))  \n",
    "            out -= out.mean(dim=1).unsqueeze(dim=1)\n",
    "            G_test = g_step(out.to('cpu').clone().detach())  \n",
    "\n",
    "            results['class_acc'] = accuracy_score(y_test.numpy(), clf.predict(G_test.numpy()))\n",
    "            dgcca = dgcca.to(device)\n",
    "            acc[compress_id, trial_id, epoch] = results['class_acc']\n",
    "\n",
    "            run_data.append(results)\n",
    "            df_alt = pd.DataFrame.from_dict(run_data, orient='columns')\n",
    "            clear_output(wait=True)\n",
    "            display(df_alt)\n",
    "\n",
    "            torch.save(dgcca, args['model_dest'])\n",
    "\n"
   ]
  },
  {
   "cell_type": "code",
   "execution_count": 87,
   "id": "dimensional-diameter",
   "metadata": {},
   "outputs": [
    {
     "data": {
      "text/plain": [
       "3"
      ]
     },
     "execution_count": 87,
     "metadata": {},
     "output_type": "execute_result"
    }
   ],
   "source": [
    "num_batches"
   ]
  },
  {
   "cell_type": "code",
   "execution_count": 77,
   "id": "antique-slovak",
   "metadata": {},
   "outputs": [
    {
     "data": {
      "text/plain": [
       "10"
      ]
     },
     "execution_count": 77,
     "metadata": {},
     "output_type": "execute_result"
    }
   ],
   "source": [
    "51//5"
   ]
  },
  {
   "cell_type": "code",
   "execution_count": 2,
   "id": "vertical-wireless",
   "metadata": {},
   "outputs": [
    {
     "data": {
      "text/plain": [
       "torch.Size([3, 477, 511])"
      ]
     },
     "execution_count": 2,
     "metadata": {},
     "output_type": "execute_result"
    }
   ],
   "source": [
    "mat.shape"
   ]
  },
  {
   "cell_type": "code",
   "execution_count": 13,
   "id": "flush-drive",
   "metadata": {},
   "outputs": [
    {
     "data": {
      "text/plain": [
       "torch.Size([477, 20])"
      ]
     },
     "execution_count": 13,
     "metadata": {},
     "output_type": "execute_result"
    }
   ],
   "source": [
    "G.shape"
   ]
  },
  {
   "cell_type": "code",
   "execution_count": 64,
   "id": "included-syria",
   "metadata": {},
   "outputs": [
    {
     "data": {
      "image/png": "[encoded data removed]",
      "text/plain": [
       "<Figure size 1008x360 with 2 Axes>"
      ]
     },
     "metadata": {
      "needs_background": "light"
     },
     "output_type": "display_data"
    }
   ],
   "source": [
    "acc = {'cute': acc[0], 'alt': acc[1]}\n",
    "\n",
    "\n",
    "fig, axes = plt.subplots(1,2, figsize=(14,5))\n",
    "\n",
    "\n",
    "cute_mean = acc['cute'].mean(axis=0)\n",
    "alt_mean = acc['alt'].mean(axis=0)\n",
    "cute_std = acc['cute'].std(axis=0)\n",
    "alt_std = acc['alt'].std(axis=0)\n",
    "\n",
    "comm_cute = np.arange(len(cute_mean))*3 + 32\n",
    "comm_alt = np.arange(len(cute_mean))*32 + 32\n",
    "\n",
    "axes[0].plot(comm_cute, acc['cute'].mean(axis=0), linewidth=2)\n",
    "axes[0].fill_between(comm_cute, cute_mean+cute_std, cute_mean-cute_std, alpha=0.2)\n",
    "axes[0].plot(comm_alt, acc['alt'].mean(axis=0), linewidth=2)\n",
    "axes[0].fill_between(comm_alt, alt_mean+alt_std, alt_mean-alt_std, alpha=0.2)\n",
    "\n",
    "axes[0].legend(['CuteMaxVar-Deep', 'AltMaxVar-Deep'], fontsize=14)\n",
    "axes[0].set_xlabel('communication cost (BPV)', fontsize=14)\n",
    "axes[0].set_ylabel('Classification accuracy', fontsize=14)\n",
    "axes[0].set_xlim(0, 1000)\n",
    "axes[0].tick_params(axis='x', labelsize=14)\n",
    "axes[0].tick_params(axis='y', labelsize=14)\n",
    "\n",
    "\n",
    "\n",
    "axes[1].plot(acc['cute'].mean(axis=0), linewidth=2)\n",
    "axes[1].fill_between(np.arange(len(cute_mean)), cute_mean+cute_std, cute_mean-cute_std, alpha=0.2)\n",
    "axes[1].plot(acc['alt'].mean(axis=0), linewidth=2)\n",
    "axes[1].fill_between(np.arange(len(alt_mean)), alt_mean+alt_std, alt_mean-alt_std, alpha=0.2)\n",
    "\n",
    "axes[1].set_xlabel('iteration', fontsize=14)\n",
    "axes[1].set_ylabel('Classification accuracy', fontsize=14)\n",
    "\n",
    "axes[1].tick_params(axis='x', labelsize=14)\n",
    "axes[1].tick_params(axis='y', labelsize=14)"
   ]
  },
  {
   "cell_type": "code",
   "execution_count": null,
   "id": "champion-kingston",
   "metadata": {},
   "outputs": [],
   "source": [
    "acc"
   ]
  },
  {
   "cell_type": "code",
   "execution_count": 56,
   "id": "extensive-trace",
   "metadata": {},
   "outputs": [],
   "source": [
    "fig.savefig('../plt/class_acc_ehr_4bits_2.pdf')"
   ]
  },
  {
   "cell_type": "code",
   "execution_count": 9,
   "id": "entitled-variable",
   "metadata": {},
   "outputs": [],
   "source": [
    "torch.save(dgcca, 'trained_models/dgcca_ehr_diag_med_freq_dist.model')"
   ]
  },
  {
   "cell_type": "code",
   "execution_count": 66,
   "id": "upset-leeds",
   "metadata": {},
   "outputs": [
    {
     "name": "stdout",
     "output_type": "stream",
     "text": [
      "alt 16\n",
      "cute 25\n"
     ]
    }
   ],
   "source": [
    "for i in range(len(alt_mean)):\n",
    "    if alt_mean[i] >= 0.8:\n",
    "        print('alt', i)\n",
    "        break\n",
    "        \n",
    "for i in range(len(cute_mean)):\n",
    "    if cute_mean[i] >= 0.8:\n",
    "        print('cute', i)\n",
    "        break"
   ]
  },
  {
   "cell_type": "code",
   "execution_count": null,
   "id": "valued-motion",
   "metadata": {},
   "outputs": [],
   "source": []
  },
  {
   "cell_type": "code",
   "execution_count": 53,
   "id": "genetic-comedy",
   "metadata": {},
   "outputs": [
    {
     "data": {
      "text/plain": [
       "array([0.3695, 0.437 , 0.5035, 0.583 , 0.6345, 0.6925, 0.7085, 0.7285,\n",
       "       0.75  , 0.746 , 0.754 , 0.7545, 0.7745, 0.7775, 0.785 , 0.788 ,\n",
       "       0.7855, 0.804 , 0.812 , 0.813 , 0.8085, 0.815 , 0.818 , 0.8205,\n",
       "       0.8115, 0.8205, 0.8185, 0.8155, 0.8145, 0.821 , 0.818 , 0.808 ,\n",
       "       0.799 , 0.812 , 0.8095, 0.807 , 0.8075, 0.8045, 0.8095, 0.808 ])"
      ]
     },
     "execution_count": 53,
     "metadata": {},
     "output_type": "execute_result"
    }
   ],
   "source": [
    "alt_mean"
   ]
  },
  {
   "cell_type": "code",
   "execution_count": 54,
   "id": "dental-validation",
   "metadata": {},
   "outputs": [
    {
     "data": {
      "text/plain": [
       "array([0.406 , 0.401 , 0.3985, 0.437 , 0.451 , 0.507 , 0.5485, 0.5965,\n",
       "       0.669 , 0.686 , 0.7215, 0.7495, 0.7505, 0.778 , 0.794 , 0.784 ,\n",
       "       0.7915, 0.798 , 0.8   , 0.7985, 0.803 , 0.822 , 0.816 , 0.828 ,\n",
       "       0.816 , 0.827 , 0.827 , 0.82  , 0.8355, 0.8255, 0.826 , 0.84  ,\n",
       "       0.84  , 0.835 , 0.835 , 0.834 , 0.833 , 0.831 , 0.8255, 0.8295])"
      ]
     },
     "execution_count": 54,
     "metadata": {},
     "output_type": "execute_result"
    }
   ],
   "source": [
    "cute_mean"
   ]
  },
  {
   "cell_type": "code",
   "execution_count": 52,
   "id": "naked-switzerland",
   "metadata": {},
   "outputs": [
    {
     "data": {
      "text/plain": [
       "0.8676470588235294"
      ]
     },
     "execution_count": 52,
     "metadata": {},
     "output_type": "execute_result"
    }
   ],
   "source": [
    "1 - (18*4)/(17*32)"
   ]
  },
  {
   "cell_type": "code",
   "execution_count": null,
   "id": "strange-drilling",
   "metadata": {},
   "outputs": [],
   "source": []
  },
  {
   "cell_type": "code",
   "execution_count": 29,
   "id": "turkish-worth",
   "metadata": {},
   "outputs": [
    {
     "data": {
      "text/plain": [
       "array([0.375 , 0.371 , 0.374 , 0.379 , 0.3935, 0.4645, 0.5385, 0.604 ,\n",
       "       0.6345, 0.691 , 0.7155, 0.738 , 0.7475, 0.7625, 0.7545, 0.77  ,\n",
       "       0.7755, 0.8025, 0.7925, 0.804 , 0.796 , 0.806 , 0.793 , 0.8015,\n",
       "       0.8125, 0.8165, 0.817 , 0.811 , 0.8165, 0.812 ])"
      ]
     },
     "execution_count": 29,
     "metadata": {},
     "output_type": "execute_result"
    }
   ],
   "source": [
    "alt_mean"
   ]
  },
  {
   "cell_type": "code",
   "execution_count": 30,
   "id": "sacred-artist",
   "metadata": {},
   "outputs": [
    {
     "data": {
      "text/plain": [
       "array([0.415 , 0.409 , 0.4205, 0.4475, 0.506 , 0.6185, 0.68  , 0.7165,\n",
       "       0.728 , 0.7505, 0.7625, 0.782 , 0.79  , 0.786 , 0.7865, 0.795 ,\n",
       "       0.8075, 0.814 , 0.805 , 0.814 , 0.8155, 0.8115, 0.808 , 0.8005,\n",
       "       0.794 , 0.8075, 0.7975, 0.801 , 0.798 , 0.805 ])"
      ]
     },
     "execution_count": 30,
     "metadata": {},
     "output_type": "execute_result"
    }
   ],
   "source": [
    "cute_mean"
   ]
  },
  {
   "cell_type": "code",
   "execution_count": 66,
   "id": "separated-meter",
   "metadata": {},
   "outputs": [
    {
     "data": {
      "text/plain": [
       "0     0.470\n",
       "1     0.620\n",
       "2     0.675\n",
       "3     0.645\n",
       "4     0.670\n",
       "5     0.715\n",
       "6     0.695\n",
       "7     0.725\n",
       "8     0.735\n",
       "9     0.745\n",
       "10    0.765\n",
       "11    0.780\n",
       "12    0.745\n",
       "13    0.775\n",
       "14    0.785\n",
       "15    0.760\n",
       "16    0.780\n",
       "17    0.790\n",
       "18    0.785\n",
       "19    0.785\n",
       "20    0.800\n",
       "21    0.820\n",
       "22    0.790\n",
       "23    0.770\n",
       "24    0.800\n",
       "25    0.790\n",
       "26    0.810\n",
       "27    0.795\n",
       "28    0.780\n",
       "29    0.790\n",
       "Name: class_acc, dtype: float64"
      ]
     },
     "execution_count": 66,
     "metadata": {},
     "output_type": "execute_result"
    }
   ],
   "source": [
    "df_alt['class_acc']"
   ]
  },
  {
   "cell_type": "code",
   "execution_count": 68,
   "id": "anonymous-discrimination",
   "metadata": {},
   "outputs": [
    {
     "data": {
      "text/plain": [
       "0.915625"
      ]
     },
     "execution_count": 68,
     "metadata": {},
     "output_type": "execute_result"
    }
   ],
   "source": [
    "1- 18*3/(20*32)"
   ]
  },
  {
   "cell_type": "code",
   "execution_count": 7,
   "id": "elegant-reporter",
   "metadata": {},
   "outputs": [],
   "source": [
    "test_views= ehr_dataset.x[:,-args['test_size']:, :]\n",
    "\n",
    "# dgcca.eval()\n",
    "dgcca = dgcca.to('cpu')\n",
    "out = dgcca(list(test_views.double()))\n",
    "out = torch.stack(out)\n",
    "out = out - out.mean(dim=1).unsqueeze(dim=1)\n",
    "G_test = g_step(out.clone().detach())"
   ]
  },
  {
   "cell_type": "markdown",
   "id": "listed-folks",
   "metadata": {},
   "source": [
    "## Plot TSNE "
   ]
  },
  {
   "cell_type": "code",
   "execution_count": 8,
   "id": "divided-benchmark",
   "metadata": {},
   "outputs": [
    {
     "data": {
      "text/plain": [
       "Text(0.5, 1.0, 't-SNE plot of latent representation G')"
      ]
     },
     "execution_count": 8,
     "metadata": {},
     "output_type": "execute_result"
    },
    {
     "data": {
      "image/png": "[encoded data removed]",
      "text/plain": [
       "<Figure size 360x360 with 1 Axes>"
      ]
     },
     "metadata": {
      "needs_background": "light"
     },
     "output_type": "display_data"
    }
   ],
   "source": [
    "import numpy as np\n",
    "from sklearn.manifold import TSNE\n",
    "\n",
    "data = G_test\n",
    "\n",
    "X = data.to('cpu').numpy()\n",
    "X_embedded = TSNE(n_components=2).fit_transform(X)\n",
    "\n",
    "fig, axes = plt.subplots(1,1, figsize=(5,5))\n",
    "\n",
    "sc = axes.scatter(X_embedded[:,0], X_embedded[:,1], c=ehr_dataset.y[-args['test_size']:])\n",
    "\n",
    "axes.set_title('t-SNE plot of latent representation G')\n"
   ]
  },
  {
   "cell_type": "markdown",
   "id": "printable-harvest",
   "metadata": {},
   "source": [
    "## Classification "
   ]
  },
  {
   "cell_type": "code",
   "execution_count": 59,
   "id": "muslim-falls",
   "metadata": {},
   "outputs": [
    {
     "data": {
      "text/plain": [
       "(0.82, 0.8, 0.425)"
      ]
     },
     "execution_count": 59,
     "metadata": {},
     "output_type": "execute_result"
    }
   ],
   "source": [
    "import numpy as np\n",
    "from sklearn.datasets import make_classification\n",
    "from sklearn.model_selection import train_test_split\n",
    "from sklearn import svm\n",
    "from sklearn.metrics import accuracy_score\n",
    "\n",
    "dgcca_dist = torch.load('trained_models/dgcca_ehr_cutemaxvar1.model')\n",
    "dgcca_alt = torch.load('trained_models/dgcca_ehr_altmaxvar1.model')\n",
    "\n",
    "train_data = ehr_dataset.x[:, :-200, :]\n",
    "train_views = [item.double() for item in train_data]\n",
    "test_data = ehr_dataset.x[:, -200:, :]\n",
    "test_views = [item.double() for item in test_data]\n",
    "\n",
    "dgcca_dist.eval()\n",
    "dgcca_dist = dgcca_dist.to('cpu')\n",
    "dgcca_alt.eval()\n",
    "dgcca_alt = dgcca_alt.to('cpu')\n",
    "\n",
    "# prepare train data\n",
    "out = torch.stack(dgcca_dist(train_views))  \n",
    "out -= out.mean(dim=1).unsqueeze(dim=1)\n",
    "x_train_dist = g_step(out.clone().detach())   \n",
    "\n",
    "out = torch.stack(dgcca_alt(train_views))  \n",
    "out -= out.mean(dim=1).unsqueeze(dim=1)\n",
    "x_train_alt = g_step(out.clone().detach())  \n",
    "\n",
    "# prepare test data\n",
    "out = torch.stack(dgcca_dist(test_views))  \n",
    "out -= out.mean(dim=1).unsqueeze(dim=1)\n",
    "x_test_dist = g_step(out.clone().detach())   \n",
    "\n",
    "out = torch.stack(dgcca_alt(test_views))  \n",
    "out -= out.mean(dim=1).unsqueeze(dim=1)\n",
    "x_test_alt = g_step(out.clone().detach())  \n",
    "\n",
    "\n",
    "y_train = ehr_dataset.y[:-200]\n",
    "y_test = ehr_dataset.y[-200:]\n",
    "\n",
    "# classification for distributed method\n",
    "clf_dist = svm.SVC(kernel='rbf')\n",
    "clf_dist.fit(x_train_dist, y_train)\n",
    "\n",
    "# classification for non-distributed method\n",
    "clf_alt = svm.SVC(kernel='rbf')\n",
    "clf_alt.fit(x_train_alt, y_train)\n",
    "\n",
    "# classification for the raw view\n",
    "clf_raw = svm.SVC(kernel='rbf')\n",
    "clf_raw.fit(train_views[0], y_train)\n",
    "\n",
    "\n",
    "acc_dist = accuracy_score(y_test, clf_dist.predict(x_test_dist))\n",
    "acc_alt = accuracy_score(y_test, clf_alt.predict(x_test_alt))\n",
    "acc_raw = accuracy_score(y_test, clf_raw.predict(test_views[0]))\n",
    "\n",
    "acc_dist, acc_alt, acc_raw"
   ]
  },
  {
   "cell_type": "code",
   "execution_count": null,
   "id": "small-recovery",
   "metadata": {},
   "outputs": [],
   "source": []
  },
  {
   "cell_type": "markdown",
   "id": "ordinary-jumping",
   "metadata": {},
   "source": [
    "## tsne plot (raw, gcca, alt, dist)"
   ]
  },
  {
   "cell_type": "code",
   "execution_count": 69,
   "id": "legislative-testing",
   "metadata": {},
   "outputs": [
    {
     "data": {
      "text/plain": [
       "Text(0.5, 0, 'Classification Acc. 80.0 %')"
      ]
     },
     "execution_count": 69,
     "metadata": {},
     "output_type": "execute_result"
    },
    {
     "data": {
      "image/png": "[encoded data removed]",
      "text/plain": [
       "<Figure size 1080x288 with 3 Axes>"
      ]
     },
     "metadata": {
      "needs_background": "light"
     },
     "output_type": "display_data"
    }
   ],
   "source": [
    "import numpy as np\n",
    "from sklearn.manifold import TSNE\n",
    "\n",
    "dgcca_dist = torch.load('trained_models/dgcca_ehr_cutemaxvar1.model')\n",
    "dgcca_alt = torch.load('trained_models/dgcca_ehr_altmaxvar1.model')\n",
    "\n",
    "test_size = 500\n",
    "\n",
    "train_data = ehr_dataset.x[:, :-test_size, :]\n",
    "train_views = [item.double() for item in train_data]\n",
    "test_data = ehr_dataset.x[:, -test_size:, :]\n",
    "test_views = [item.double() for item in test_data]\n",
    "\n",
    "dgcca_dist.eval()\n",
    "dgcca_dist = dgcca_dist.to('cpu')\n",
    "dgcca_alt.eval()\n",
    "dgcca_alt = dgcca_alt.to('cpu')\n",
    "\n",
    "# prepare train data\n",
    "out = torch.stack(dgcca_dist(train_views))  \n",
    "out -= out.mean(dim=1).unsqueeze(dim=1)\n",
    "x_train_dist = g_step(out.clone().detach())   \n",
    "\n",
    "out = torch.stack(dgcca_alt(train_views))  \n",
    "out -= out.mean(dim=1).unsqueeze(dim=1)\n",
    "x_train_alt = g_step(out.clone().detach())  \n",
    "\n",
    "# prepare test data\n",
    "out = torch.stack(dgcca_dist(test_views))  \n",
    "out -= out.mean(dim=1).unsqueeze(dim=1)\n",
    "x_test_dist = g_step(out.clone().detach())   \n",
    "\n",
    "out = torch.stack(dgcca_alt(test_views))  \n",
    "out -= out.mean(dim=1).unsqueeze(dim=1)\n",
    "x_test_alt = g_step(out.clone().detach())  \n",
    "\n",
    "y_train = ehr_dataset.y[:-test_size]\n",
    "y_test = ehr_dataset.y[-test_size:]\n",
    "\n",
    "\n",
    "# Tsne embeddings\n",
    "\n",
    "x_embedded_raw = test_views[0].to('cpu').numpy()\n",
    "x_embedded_raw = TSNE(n_components=2).fit_transform(x_embedded_raw)\n",
    "\n",
    "\n",
    "x_embedded_dist = x_test_dist.to('cpu').numpy()\n",
    "x_embedded_dist = TSNE(n_components=2).fit_transform(x_embedded_dist)\n",
    "\n",
    "x_embedded_alt = x_test_alt.to('cpu').numpy()\n",
    "x_embedded_alt = TSNE(n_components=2).fit_transform(x_embedded_alt)\n",
    "\n",
    "\n",
    "fig, axes = plt.subplots(1,3, figsize=(15, 4))\n",
    "\n",
    "axes[0].scatter(x_embedded_raw[:,0], x_embedded_raw[:,1], c=y_test)\n",
    "axes[0].set_title('Raw view', fontsize=14)\n",
    "axes[0].set_xlabel('Classification Acc. 42.5 %', fontsize=14)\n",
    "\n",
    "axes[2].scatter(x_embedded_dist[:,0], x_embedded_dist[:,1], c=y_test)\n",
    "axes[2].set_title('CuteMaxVar', fontsize=14)\n",
    "axes[2].set_xlabel('Classification Acc. 82.0 %', fontsize=14)\n",
    "\n",
    "\n",
    "axes[1].scatter(x_embedded_alt[:,0], x_embedded_alt[:,1], c=y_test)\n",
    "axes[1].set_title('AltMaxVar', fontsize=14)\n",
    "axes[1].set_xlabel('Classification Acc. 80.0 %', fontsize=14)\n",
    "\n",
    "\n",
    "\n",
    "# axes.set_title('t-SNE plot of latent representation G')"
   ]
  },
  {
   "cell_type": "code",
   "execution_count": 64,
   "id": "remarkable-fashion",
   "metadata": {},
   "outputs": [
    {
     "data": {
      "text/plain": [
       "torch.Size([527, 20])"
      ]
     },
     "execution_count": 64,
     "metadata": {},
     "output_type": "execute_result"
    }
   ],
   "source": [
    "G.shape"
   ]
  },
  {
   "cell_type": "code",
   "execution_count": 70,
   "id": "remarkable-cooling",
   "metadata": {},
   "outputs": [],
   "source": [
    "fig.savefig('../plt/ehr_dataset_tsne_plot.pdf')"
   ]
  },
  {
   "cell_type": "code",
   "execution_count": 17,
   "id": "alive-character",
   "metadata": {},
   "outputs": [
    {
     "data": {
      "text/plain": [
       "torch.Size([527, 20])"
      ]
     },
     "execution_count": 17,
     "metadata": {},
     "output_type": "execute_result"
    }
   ],
   "source": []
  },
  {
   "cell_type": "code",
   "execution_count": 4,
   "id": "furnished-immigration",
   "metadata": {},
   "outputs": [
    {
     "data": {
      "text/plain": [
       "Text(0.5, 1.0, 't-SNE plot of latent representation G')"
      ]
     },
     "execution_count": 4,
     "metadata": {},
     "output_type": "execute_result"
    },
    {
     "data": {
      "image/png": "[encoded data removed]",
      "text/plain": [
       "<Figure size 360x360 with 1 Axes>"
      ]
     },
     "metadata": {
      "needs_background": "light"
     },
     "output_type": "display_data"
    }
   ],
   "source": [
    "# Plot t-sne for only those classes for which the number of data points exceed min_entities \n",
    "# and corresponds to a clearly separable classes \n",
    "# one of the diagnosis is just e.g. we have Symptoms, signs and abnormal clinical and laboratory findings, not elsewhere classified \n",
    "\n",
    "min_entities = 40\n",
    "\n",
    "# sort x and y according to class index\n",
    "a = np.argsort(ehr_dataset.y)\n",
    "y = ehr_dataset.y[a]\n",
    "x = G[a,:]\n",
    "\n",
    "num_ind = []\n",
    "idx = {y[0].item():1}\n",
    "j = y[0]\n",
    "sumid = 0\n",
    "\n",
    "# count all the indices\n",
    "for i in y:\n",
    "    if not j==i:\n",
    "        j = i\n",
    "        idx[j.item()] = 1\n",
    "        num_ind.append(sumid)\n",
    "        sumid = 0\n",
    "    else:\n",
    "        idx[i.item()] += 1\n",
    "\n",
    "# get the most frequent classes\n",
    "frequent_keys = []\n",
    "for key in idx:\n",
    "    if idx[key] >= min_entities:\n",
    "        frequent_keys.append(key)\n",
    "\n",
    "# remove the entities related to SYMPTOMS, SIGNS, AND ILL-DEFINED CONDITIONS (780-799)\n",
    "freq_id = []\n",
    "for i in range(len(y)):\n",
    "    if y[i] in frequent_keys:\n",
    "        if not y[i] == frequent_keys[5]:\n",
    "            freq_id.append(i)\n",
    "            \n",
    "# get the truccated representation\n",
    "y_trunc = y[freq_id]\n",
    "x_trunc = x[freq_id]\n",
    "\n",
    "import numpy as np\n",
    "from sklearn.manifold import TSNE\n",
    "\n",
    "X = x_trunc.to('cpu').numpy()\n",
    "X_embedded = TSNE(n_components=2).fit_transform(X)\n",
    "\n",
    "fig, axes = plt.subplots(1,1, figsize=(5,5))\n",
    "\n",
    "sc = axes.scatter(X_embedded[:,0], X_embedded[:,1], c=y_trunc)\n",
    "\n",
    "axes.set_title('t-SNE plot of latent representation G')"
   ]
  },
  {
   "cell_type": "code",
   "execution_count": 11,
   "id": "phantom-stone",
   "metadata": {},
   "outputs": [
    {
     "data": {
      "text/plain": [
       "torch.Size([20])"
      ]
     },
     "execution_count": 11,
     "metadata": {},
     "output_type": "execute_result"
    }
   ],
   "source": []
  },
  {
   "cell_type": "code",
   "execution_count": 8,
   "id": "traditional-philip",
   "metadata": {},
   "outputs": [
    {
     "data": {
      "text/plain": [
       "tensor([ 3,  3,  3,  3,  3,  3,  3,  3,  3,  3,  3,  3,  3,  3,  3,  3,  3,  3,\n",
       "         3,  3,  3,  3,  3,  3,  3,  3,  3,  3,  3,  3,  3,  3,  3,  3,  3,  3,\n",
       "         3,  3,  3,  3,  3,  3,  3,  3,  3,  3,  3,  3,  3,  3,  3,  3,  3,  3,\n",
       "         3,  3,  3,  3,  3,  3,  3,  3,  3,  3,  3,  3,  3,  3,  3,  3,  3,  3,\n",
       "         3,  3,  3,  3,  3,  3,  3,  3,  3,  3,  3,  3,  3,  3,  3,  3,  3,  3,\n",
       "         3,  3,  3,  3,  3,  3,  3,  3,  3,  3,  3,  3,  6,  6,  6,  6,  6,  6,\n",
       "         6,  6,  6,  6,  6,  6,  6,  6,  6,  6,  6,  6,  6,  6,  6,  6,  6,  6,\n",
       "         6,  6,  6,  6,  6,  6,  6,  6,  6,  6,  6,  6,  6,  6,  6,  6,  6,  6,\n",
       "         6,  6,  6,  6,  6,  6,  6,  6,  6,  6,  6,  6,  6,  6,  6,  6,  6,  6,\n",
       "         6,  6,  6,  6,  6,  6,  6,  6,  6,  6,  6,  6,  6,  6,  6,  6,  6,  6,\n",
       "         6,  6,  6,  6,  6,  6,  6,  6,  6,  6,  6,  6,  6,  6,  6,  6,  6,  6,\n",
       "         6,  6,  6,  6,  6,  6,  6,  7,  7,  7,  7,  7,  7,  7,  7,  7,  7,  7,\n",
       "         7,  7,  7,  7,  7,  7,  7,  7,  7,  7,  7,  7,  7,  7,  7,  7,  7,  7,\n",
       "         7,  7,  7,  7,  7,  7,  7,  7,  7,  7,  7,  7,  7,  7,  7,  7,  7,  7,\n",
       "         7,  7,  9,  9,  9,  9,  9,  9,  9,  9,  9,  9,  9,  9,  9,  9,  9,  9,\n",
       "         9,  9,  9,  9,  9,  9,  9,  9,  9,  9,  9,  9,  9,  9,  9,  9,  9,  9,\n",
       "         9,  9,  9,  9,  9,  9,  9,  9,  9,  9,  9,  9,  9,  9,  9,  9,  9,  9,\n",
       "         9,  9,  9,  9,  9,  9,  9,  9,  9,  9,  9,  9,  9, 12, 12, 12, 12, 12,\n",
       "        12, 12, 12, 12, 12, 12, 12, 12, 12, 12, 12, 12, 12, 12, 12, 12, 12, 12,\n",
       "        12, 12, 12, 12, 12, 12, 12, 12, 12, 12, 12, 12, 12, 12, 12, 12, 12, 12,\n",
       "        12, 12, 12, 12, 12, 12, 12, 12, 12, 12, 12, 12, 12, 12, 12, 12, 12, 12,\n",
       "        12, 12, 12, 12, 12, 12, 12, 12, 12, 12, 12, 12, 12, 12, 12, 12, 12, 12,\n",
       "        12, 12, 12, 12, 12, 12, 12, 12, 12, 12, 12, 12, 12, 12, 12, 12, 12, 12,\n",
       "        12, 12, 12, 12, 12, 12, 12, 12, 12, 12, 12, 12, 12, 12, 12, 12, 12, 12,\n",
       "        12, 12, 12, 12, 12, 12, 12, 12, 12, 12, 12, 12, 12, 12, 12, 18, 18, 18,\n",
       "        18, 18, 18, 18, 18, 18, 18, 18, 18, 18, 18, 18, 18, 18, 18, 18, 18, 18,\n",
       "        18, 18, 18, 18, 18, 18, 18, 18, 18, 18, 18, 18, 18, 18, 18, 18, 18, 18,\n",
       "        18, 18, 18, 18, 18, 18, 18, 18, 18, 18, 18, 18, 18, 18, 18, 18, 18, 18,\n",
       "        18, 18, 18, 18, 18, 18, 18, 18, 18, 18, 18, 18, 18, 18, 18, 18, 18, 18,\n",
       "        18, 18, 18, 18, 18, 18, 18, 18, 18, 18, 18, 18, 18, 18, 18, 18, 18, 18,\n",
       "        18, 18, 18, 18, 18, 18, 18, 18, 18, 18, 18, 18, 18, 18, 18, 18, 18, 18,\n",
       "        18, 18, 18, 18, 18, 18, 18, 18, 18, 18, 18, 18, 18, 18, 18, 18, 18, 18,\n",
       "        18, 18, 18, 18, 18, 18, 18, 18, 18, 18, 18, 18, 18, 18, 18, 18, 18, 18,\n",
       "        18, 18, 18, 18, 18, 18, 18, 18, 18, 18, 18, 18, 18, 18, 18, 18, 18, 18,\n",
       "        18, 18, 18, 18, 18, 18, 18, 18, 18, 18, 18, 18, 18, 18, 18, 18, 18, 18,\n",
       "        18, 18, 18, 18, 18, 18, 18, 18, 18, 18, 18, 18, 18, 18, 18, 18, 18, 18,\n",
       "        18, 18, 18, 18, 18, 18, 18, 18, 18, 18, 18, 18, 18, 18, 18, 18, 18, 18,\n",
       "        18, 18, 18, 18, 18, 18, 18, 18, 18, 18, 18, 18, 18, 18, 18, 18, 18, 18,\n",
       "        18, 18, 18, 18, 18, 18, 18, 18, 18, 18, 18, 18, 18, 18, 18, 18, 18, 18,\n",
       "        18, 18, 18, 18, 18, 18, 18, 18, 18, 18, 18, 18, 18, 18, 18, 18, 18, 18,\n",
       "        18, 18, 18, 18, 18, 18, 18])"
      ]
     },
     "execution_count": 8,
     "metadata": {},
     "output_type": "execute_result"
    }
   ],
   "source": [
    "y_trunc"
   ]
  },
  {
   "cell_type": "code",
   "execution_count": 3,
   "id": "quantitative-nation",
   "metadata": {},
   "outputs": [
    {
     "data": {
      "text/plain": [
       "tensor([ 3, 12,  6, 18,  7, 12, 18, 12,  7,  9,  9, 18,  9,  3,  6, 18,  6, 12,\n",
       "        18, 12, 18,  6, 12, 18, 18, 18, 18,  7, 18,  6, 18, 18, 18, 18, 12, 12,\n",
       "         6, 12, 12,  3,  3, 12, 12,  3, 18, 12, 12,  7,  6,  7,  6,  9,  6, 18,\n",
       "         9, 18,  3, 18,  7, 12, 18, 18,  6, 12,  6,  9, 18,  9, 12,  3, 18, 12,\n",
       "         9, 18, 18,  6,  6, 12,  7, 18,  9, 18,  6, 18,  3, 18,  3, 18,  3, 18,\n",
       "        18,  6,  6,  9,  9,  9,  3,  3, 18, 12,  7, 12, 18,  3, 18, 18, 18,  7,\n",
       "        18, 18,  6, 18, 18,  3,  3,  3, 18, 18, 12, 12,  6, 18, 18, 18, 18,  7,\n",
       "         9,  6, 12, 12, 18, 18,  9,  6,  3,  7, 12, 18,  3, 12,  3, 12,  7,  3,\n",
       "        18,  3, 18, 18, 12,  3, 18,  6, 12,  9, 12,  9, 12, 18, 18, 18,  3,  6,\n",
       "         9,  3,  3,  3, 12,  6, 18, 18,  7, 18,  7,  3,  6, 18,  6, 12,  6, 18,\n",
       "        12,  6, 12, 18, 18, 12,  6,  6, 18, 12, 18, 18,  3,  7,  6, 18,  9,  3,\n",
       "        18,  3, 18,  9,  6, 18,  6, 12,  3,  9,  7, 12, 18, 18, 12,  3, 18, 18,\n",
       "         9, 18,  6, 12,  6,  9, 18,  3, 18, 12, 18, 18, 18,  3,  7, 18,  9, 12,\n",
       "        12,  7, 18, 12,  3,  7,  6, 18, 12,  3, 18, 18,  6, 18, 18, 18,  3, 18,\n",
       "        12, 18, 12,  6,  3, 18, 18,  9,  3,  3,  6,  9,  3,  3,  6, 18, 18, 18,\n",
       "         6,  6, 18, 18, 12,  3, 12,  9, 12, 12, 18, 18, 12,  6, 18,  3, 18, 18,\n",
       "        12, 12, 12,  6,  7, 12, 18,  6, 18,  6, 12, 12, 18, 12, 12,  3, 18, 18,\n",
       "        18, 18,  9, 18, 18,  6, 18, 12,  6, 12,  3,  9,  6, 18,  3,  6, 18, 18,\n",
       "        18,  6, 18,  6,  9,  9,  9, 18, 12,  3, 12,  9,  6,  3,  3, 18, 12,  7,\n",
       "         6,  6,  6,  7,  3,  3,  9, 12, 18, 12, 12, 18, 18, 18,  3, 18, 18,  6,\n",
       "        18,  3, 18, 18,  7, 18,  9,  6,  9, 18, 18, 18,  6,  3,  9,  7, 12, 18,\n",
       "        18, 18, 18, 18, 18,  6, 18,  7, 18,  6, 12, 12, 18,  7,  9,  6, 12,  7,\n",
       "         3,  3,  6,  9, 12, 18,  9, 18, 12, 18,  3,  3,  3,  3,  3,  6,  3,  3,\n",
       "         9, 18, 12,  3, 18,  7, 18, 18, 18, 18,  6, 18,  6, 18, 18,  6,  6, 12,\n",
       "        18, 18, 18, 12,  7, 18,  9,  3, 18, 18,  3,  3, 18, 12, 18,  3,  3,  6,\n",
       "        18, 18, 18, 18, 18,  3, 18, 18, 18, 18,  3,  7, 18, 18,  9,  7, 12,  9,\n",
       "         6,  9, 18, 18,  3,  6,  3,  3, 18,  7, 18,  7, 18, 12, 18, 18,  3, 12,\n",
       "         6,  9, 18,  9,  7,  9,  3, 18,  7,  6, 18,  3,  6,  3, 12, 12,  9,  3,\n",
       "        18,  3,  6,  9,  9,  6,  7, 18, 18, 18,  7, 18, 12,  6, 18, 18, 18,  7,\n",
       "        18,  3, 12, 18, 12,  6, 18, 18,  9,  6,  6,  6, 18, 18, 12, 18,  9, 18,\n",
       "        18, 12,  3,  6,  3, 12, 18, 18, 18,  9,  7, 12,  3,  3, 12, 18, 18,  7,\n",
       "         6, 18, 18, 18,  3, 18,  6,  9, 18,  9, 12, 18, 12, 18,  9,  7,  7,  9,\n",
       "         3, 18, 18, 12,  3,  3,  6, 12, 18,  3, 18,  3, 18, 18, 12,  6, 18, 12,\n",
       "        18, 18,  3,  6, 12, 12, 18, 18, 18, 18, 18,  7, 12,  7,  6, 18, 12,  6,\n",
       "        12,  3, 18,  9, 18, 12,  6, 12, 12, 18, 18,  3,  9, 18, 18, 18, 12, 18,\n",
       "        18, 12,  3, 18, 12,  7, 18, 18, 12, 12, 18, 18, 18, 18,  3,  7, 18, 18,\n",
       "         6, 18, 12, 18, 12,  6, 18, 12, 18, 12,  3,  6,  9,  7, 18, 12, 18,  6,\n",
       "         3, 18, 12, 18,  6, 18,  6,  9, 18, 18,  7, 18, 12,  7, 18, 18, 18,  6,\n",
       "        18, 18,  9, 12, 12, 18, 12, 18,  6,  9, 18,  3, 18, 18, 12, 18, 18, 12,\n",
       "        18, 12,  6, 12, 18, 12,  3,  3, 18, 18,  6, 12, 18,  6, 18,  9, 18, 18,\n",
       "         6,  6, 18, 18, 18,  6,  9])"
      ]
     },
     "execution_count": 3,
     "metadata": {},
     "output_type": "execute_result"
    }
   ],
   "source": [
    "from dgcca.ehr.dataset_ehr import *\n",
    "\n",
    "ehr_dataset = EhrDataset(data_file='/scratch/sagar/Projects/federated_max_var_gcca/ehr/data/diag_med_1045',\n",
    "                         shuffle=True)\n",
    "\n",
    "\n",
    "freq_id, freq_classes = get_frequent_indices(ehr_dataset.y, min_count=40, except_classes=[15])\n",
    "\n",
    "ehr_dataset.y[freq_id]"
   ]
  },
  {
   "cell_type": "code",
   "execution_count": 5,
   "id": "fiscal-vienna",
   "metadata": {},
   "outputs": [],
   "source": [
    "torch.save((list(ehr_dataset.x[:,freq_id,:]), ehr_dataset.y[freq_id]), '/scratch/sagar/Projects/federated_max_var_gcca/ehr/data/diag_med_frequent')"
   ]
  },
  {
   "cell_type": "code",
   "execution_count": null,
   "id": "nominated-contact",
   "metadata": {},
   "outputs": [],
   "source": []
  },
  {
   "cell_type": "code",
   "execution_count": 16,
   "id": "dated-berkeley",
   "metadata": {},
   "outputs": [
    {
     "data": {
      "text/plain": [
       "tensor([ 3,  3,  3,  3,  3,  3,  3,  3,  3,  3,  3,  3,  3,  3,  3,  3,  3,  3,\n",
       "         3,  3,  3,  3,  3,  3,  3,  3,  3,  3,  3,  3,  3,  3,  3,  3,  3,  3,\n",
       "         3,  3,  3,  3,  3,  3,  3,  3,  3,  3,  3,  3,  3,  3,  3,  3,  3,  3,\n",
       "         3,  3,  3,  3,  3,  3,  3,  3,  3,  3,  3,  3,  3,  3,  3,  3,  3,  3,\n",
       "         3,  3,  3,  3,  3,  3,  3,  3,  3,  3,  3,  3,  3,  3,  3,  3,  3,  3,\n",
       "         3,  3,  3,  3,  3,  3,  3,  3,  3,  3,  3,  3,  6,  6,  6,  6,  6,  6,\n",
       "         6,  6,  6,  6,  6,  6,  6,  6,  6,  6,  6,  6,  6,  6,  6,  6,  6,  6,\n",
       "         6,  6,  6,  6,  6,  6,  6,  6,  6,  6,  6,  6,  6,  6,  6,  6,  6,  6,\n",
       "         6,  6,  6,  6,  6,  6,  6,  6,  6,  6,  6,  6,  6,  6,  6,  6,  6,  6,\n",
       "         6,  6,  6,  6,  6,  6,  6,  6,  6,  6,  6,  6,  6,  6,  6,  6,  6,  6,\n",
       "         6,  6,  6,  6,  6,  6,  6,  6,  6,  6,  6,  6,  6,  6,  6,  6,  6,  6,\n",
       "         6,  6,  6,  6,  6,  6,  6,  7,  7,  7,  7,  7,  7,  7,  7,  7,  7,  7,\n",
       "         7,  7,  7,  7,  7,  7,  7,  7,  7,  7,  7,  7,  7,  7,  7,  7,  7,  7,\n",
       "         7,  7,  7,  7,  7,  7,  7,  7,  7,  7,  7,  7,  7,  7,  7,  7,  7,  7,\n",
       "         7,  7,  9,  9,  9,  9,  9,  9,  9,  9,  9,  9,  9,  9,  9,  9,  9,  9,\n",
       "         9,  9,  9,  9,  9,  9,  9,  9,  9,  9,  9,  9,  9,  9,  9,  9,  9,  9,\n",
       "         9,  9,  9,  9,  9,  9,  9,  9,  9,  9,  9,  9,  9,  9,  9,  9,  9,  9,\n",
       "         9,  9,  9,  9,  9,  9,  9,  9,  9,  9,  9,  9,  9, 12, 12, 12, 12, 12,\n",
       "        12, 12, 12, 12, 12, 12, 12, 12, 12, 12, 12, 12, 12, 12, 12, 12, 12, 12,\n",
       "        12, 12, 12, 12, 12, 12, 12, 12, 12, 12, 12, 12, 12, 12, 12, 12, 12, 12,\n",
       "        12, 12, 12, 12, 12, 12, 12, 12, 12, 12, 12, 12, 12, 12, 12, 12, 12, 12,\n",
       "        12, 12, 12, 12, 12, 12, 12, 12, 12, 12, 12, 12, 12, 12, 12, 12, 12, 12,\n",
       "        12, 12, 12, 12, 12, 12, 12, 12, 12, 12, 12, 12, 12, 12, 12, 12, 12, 12,\n",
       "        12, 12, 12, 12, 12, 12, 12, 12, 12, 12, 12, 12, 12, 12, 12, 12, 12, 12,\n",
       "        12, 12, 12, 12, 12, 12, 12, 12, 12, 12, 12, 12, 12, 12, 12, 18, 18, 18,\n",
       "        18, 18, 18, 18, 18, 18, 18, 18, 18, 18, 18, 18, 18, 18, 18, 18, 18, 18,\n",
       "        18, 18, 18, 18, 18, 18, 18, 18, 18, 18, 18, 18, 18, 18, 18, 18, 18, 18,\n",
       "        18, 18, 18, 18, 18, 18, 18, 18, 18, 18, 18, 18, 18, 18, 18, 18, 18, 18,\n",
       "        18, 18, 18, 18, 18, 18, 18, 18, 18, 18, 18, 18, 18, 18, 18, 18, 18, 18,\n",
       "        18, 18, 18, 18, 18, 18, 18, 18, 18, 18, 18, 18, 18, 18, 18, 18, 18, 18,\n",
       "        18, 18, 18, 18, 18, 18, 18, 18, 18, 18, 18, 18, 18, 18, 18, 18, 18, 18,\n",
       "        18, 18, 18, 18, 18, 18, 18, 18, 18, 18, 18, 18, 18, 18, 18, 18, 18, 18,\n",
       "        18, 18, 18, 18, 18, 18, 18, 18, 18, 18, 18, 18, 18, 18, 18, 18, 18, 18,\n",
       "        18, 18, 18, 18, 18, 18, 18, 18, 18, 18, 18, 18, 18, 18, 18, 18, 18, 18,\n",
       "        18, 18, 18, 18, 18, 18, 18, 18, 18, 18, 18, 18, 18, 18, 18, 18, 18, 18,\n",
       "        18, 18, 18, 18, 18, 18, 18, 18, 18, 18, 18, 18, 18, 18, 18, 18, 18, 18,\n",
       "        18, 18, 18, 18, 18, 18, 18, 18, 18, 18, 18, 18, 18, 18, 18, 18, 18, 18,\n",
       "        18, 18, 18, 18, 18, 18, 18, 18, 18, 18, 18, 18, 18, 18, 18, 18, 18, 18,\n",
       "        18, 18, 18, 18, 18, 18, 18, 18, 18, 18, 18, 18, 18, 18, 18, 18, 18, 18,\n",
       "        18, 18, 18, 18, 18, 18, 18, 18, 18, 18, 18, 18, 18, 18, 18, 18, 18, 18,\n",
       "        18, 18, 18, 18, 18, 18, 18])"
      ]
     },
     "execution_count": 16,
     "metadata": {},
     "output_type": "execute_result"
    }
   ],
   "source": [
    "y_trunc"
   ]
  },
  {
   "cell_type": "code",
   "execution_count": 13,
   "id": "unusual-myanmar",
   "metadata": {},
   "outputs": [
    {
     "data": {
      "text/plain": [
       "[3, 6, 7, 9, 12, 15, 18]"
      ]
     },
     "execution_count": 13,
     "metadata": {},
     "output_type": "execute_result"
    }
   ],
   "source": [
    "frequent_keys"
   ]
  },
  {
   "cell_type": "code",
   "execution_count": 12,
   "id": "protecting-police",
   "metadata": {},
   "outputs": [
    {
     "data": {
      "text/plain": [
       "[3, 6, 7, 9, 12, 15, 18]"
      ]
     },
     "execution_count": 12,
     "metadata": {},
     "output_type": "execute_result"
    }
   ],
   "source": [
    "frequent_keys"
   ]
  },
  {
   "cell_type": "code",
   "execution_count": 5,
   "id": "frozen-mouse",
   "metadata": {},
   "outputs": [
    {
     "data": {
      "text/plain": [
       "<dgcca.ehr.dataset_ehr.EhrDataset at 0x7f88675aaef0>"
      ]
     },
     "execution_count": 5,
     "metadata": {},
     "output_type": "execute_result"
    }
   ],
   "source": [
    "ehr_dataset"
   ]
  },
  {
   "cell_type": "code",
   "execution_count": 138,
   "id": "actual-electricity",
   "metadata": {},
   "outputs": [
    {
     "data": {
      "text/plain": [
       "15"
      ]
     },
     "execution_count": 138,
     "metadata": {},
     "output_type": "execute_result"
    }
   ],
   "source": [
    "frequent_keys[5]"
   ]
  },
  {
   "cell_type": "code",
   "execution_count": null,
   "id": "silent-glenn",
   "metadata": {},
   "outputs": [],
   "source": [
    "\n",
    "fig, axes = plt.subplots(1,1, figsize=(5,5))\n",
    "\n",
    "sc = axes.scatter(X_embedded[:,0], X_embedded[:,1], c=y_trunc)\n",
    "\n",
    "axes.set_title('t-SNE plot of latent representation G')"
   ]
  },
  {
   "cell_type": "code",
   "execution_count": 131,
   "id": "extended-briefing",
   "metadata": {},
   "outputs": [
    {
     "data": {
      "text/plain": [
       "[3, 6, 7, 9, 12, 15, 18]"
      ]
     },
     "execution_count": 131,
     "metadata": {},
     "output_type": "execute_result"
    }
   ],
   "source": [
    "frequent_keys "
   ]
  },
  {
   "cell_type": "code",
   "execution_count": 123,
   "id": "stylish-turkish",
   "metadata": {},
   "outputs": [
    {
     "data": {
      "text/plain": [
       "torch.Size([3, 861, 511])"
      ]
     },
     "execution_count": 123,
     "metadata": {},
     "output_type": "execute_result"
    }
   ],
   "source": [
    "x_trunc.shape"
   ]
  },
  {
   "cell_type": "markdown",
   "id": "unlimited-telling",
   "metadata": {},
   "source": [
    "## Run autoencoder architecture based DGCCA on EHR dataset"
   ]
  },
  {
   "cell_type": "code",
   "execution_count": 122,
   "id": "pleasant-thesaurus",
   "metadata": {},
   "outputs": [
    {
     "data": {
      "text/html": [
       "<div>\n",
       "<style scoped>\n",
       "    .dataframe tbody tr th:only-of-type {\n",
       "        vertical-align: middle;\n",
       "    }\n",
       "\n",
       "    .dataframe tbody tr th {\n",
       "        vertical-align: top;\n",
       "    }\n",
       "\n",
       "    .dataframe thead th {\n",
       "        text-align: right;\n",
       "    }\n",
       "</style>\n",
       "<table border=\"1\" class=\"dataframe\">\n",
       "  <thead>\n",
       "    <tr style=\"text-align: right;\">\n",
       "      <th></th>\n",
       "      <th>epoch</th>\n",
       "      <th>recons_loss</th>\n",
       "      <th>dgcca_loss</th>\n",
       "      <th>lr</th>\n",
       "    </tr>\n",
       "  </thead>\n",
       "  <tbody>\n",
       "    <tr>\n",
       "      <th>0</th>\n",
       "      <td>0</td>\n",
       "      <td>204.608156</td>\n",
       "      <td>0.017482</td>\n",
       "      <td>0.001</td>\n",
       "    </tr>\n",
       "    <tr>\n",
       "      <th>1</th>\n",
       "      <td>1</td>\n",
       "      <td>204.612822</td>\n",
       "      <td>0.004131</td>\n",
       "      <td>0.001</td>\n",
       "    </tr>\n",
       "    <tr>\n",
       "      <th>2</th>\n",
       "      <td>2</td>\n",
       "      <td>204.610789</td>\n",
       "      <td>0.003152</td>\n",
       "      <td>0.001</td>\n",
       "    </tr>\n",
       "    <tr>\n",
       "      <th>3</th>\n",
       "      <td>3</td>\n",
       "      <td>204.614610</td>\n",
       "      <td>0.002865</td>\n",
       "      <td>0.001</td>\n",
       "    </tr>\n",
       "    <tr>\n",
       "      <th>4</th>\n",
       "      <td>4</td>\n",
       "      <td>204.610524</td>\n",
       "      <td>0.002705</td>\n",
       "      <td>0.001</td>\n",
       "    </tr>\n",
       "    <tr>\n",
       "      <th>...</th>\n",
       "      <td>...</td>\n",
       "      <td>...</td>\n",
       "      <td>...</td>\n",
       "      <td>...</td>\n",
       "    </tr>\n",
       "    <tr>\n",
       "      <th>245</th>\n",
       "      <td>245</td>\n",
       "      <td>204.613046</td>\n",
       "      <td>0.000429</td>\n",
       "      <td>0.001</td>\n",
       "    </tr>\n",
       "    <tr>\n",
       "      <th>246</th>\n",
       "      <td>246</td>\n",
       "      <td>204.614098</td>\n",
       "      <td>0.000429</td>\n",
       "      <td>0.001</td>\n",
       "    </tr>\n",
       "    <tr>\n",
       "      <th>247</th>\n",
       "      <td>247</td>\n",
       "      <td>204.611873</td>\n",
       "      <td>0.000431</td>\n",
       "      <td>0.001</td>\n",
       "    </tr>\n",
       "    <tr>\n",
       "      <th>248</th>\n",
       "      <td>248</td>\n",
       "      <td>204.613463</td>\n",
       "      <td>0.000429</td>\n",
       "      <td>0.001</td>\n",
       "    </tr>\n",
       "    <tr>\n",
       "      <th>249</th>\n",
       "      <td>249</td>\n",
       "      <td>204.613176</td>\n",
       "      <td>0.000428</td>\n",
       "      <td>0.001</td>\n",
       "    </tr>\n",
       "  </tbody>\n",
       "</table>\n",
       "<p>250 rows × 4 columns</p>\n",
       "</div>"
      ],
      "text/plain": [
       "     epoch  recons_loss  dgcca_loss     lr\n",
       "0        0   204.608156    0.017482  0.001\n",
       "1        1   204.612822    0.004131  0.001\n",
       "2        2   204.610789    0.003152  0.001\n",
       "3        3   204.614610    0.002865  0.001\n",
       "4        4   204.610524    0.002705  0.001\n",
       "..     ...          ...         ...    ...\n",
       "245    245   204.613046    0.000429  0.001\n",
       "246    246   204.614098    0.000429  0.001\n",
       "247    247   204.611873    0.000431  0.001\n",
       "248    248   204.613463    0.000429  0.001\n",
       "249    249   204.613176    0.000428  0.001\n",
       "\n",
       "[250 rows x 4 columns]"
      ]
     },
     "metadata": {},
     "output_type": "display_data"
    },
    {
     "name": "stderr",
     "output_type": "stream",
     "text": [
      "100%|██████████| 250/250 [00:42<00:00,  5.89it/s]\n"
     ]
    }
   ],
   "source": [
    "from collections import OrderedDict, namedtuple\n",
    "from itertools import product\n",
    "import os\n",
    "from tqdm import tqdm_notebook as tqdm\n",
    "from tqdm import trange\n",
    "from IPython.display import clear_output\n",
    "import time\n",
    "import torch.nn as nn\n",
    "import pandas as pd\n",
    "import torch\n",
    "import matplotlib.pyplot as plt\n",
    "from dgcca.utils.run_manager import RunBuilder\n",
    "from dgcca.models import g_step, AE_DGCCA, AELinear\n",
    "from torchvision import datasets, transforms, utils\n",
    "from torch.utils.data import DataLoader\n",
    "import torchvision\n",
    "import numpy as np\n",
    "import argparse\n",
    "import pprint as pp\n",
    "from dgcca.ehr.dataset_ehr import *\n",
    "from dgcca.utils.qsgd import qsgd\n",
    "\n",
    "\n",
    "if torch.cuda.is_available():\n",
    "    devices = ['cuda']\n",
    "else:\n",
    "    devices = ['cpu']\n",
    "print('starting')\n",
    "\n",
    "parser = argparse.ArgumentParser(description=\"Toy 2d DGCCA\")\n",
    "\n",
    "# Data\n",
    "parser.add_argument('--model_dest',\n",
    "                    default='trained_models/dgcca_ehr_diag_med_ae_1.model', \n",
    "                    help=\"Destination model path\")\n",
    "parser.add_argument('--random_seed', default=4328, help='')\n",
    "\n",
    "args = vars(parser.parse_args(args = []))\n",
    "pp.pprint(args)\n",
    "\n",
    "# Set the random seed\n",
    "torch.manual_seed(int(args['random_seed']))\n",
    "\n",
    "params = OrderedDict(\n",
    "    lr = [0.001],\n",
    "    batch_size = [1000],\n",
    "    device = devices,\n",
    "    shuffle = [True],\n",
    "    num_workers = [5],\n",
    "    manual_seed = [1265],\n",
    "    loss_func = [nn.MSELoss],\n",
    "    quant = [False],\n",
    "    latent_dim = [20], \n",
    "    num_inner_epochs = [10],\n",
    "    rand_compress=[True], \n",
    "    n_bits=[4]\n",
    ")\n",
    "\n",
    "ehr_dataset = EhrDataset(data_file='/scratch/sagar/Projects/federated_max_var_gcca/ehr/data/diag_med_1045',\n",
    "                         shuffle=True)\n",
    "mat = x_trunc.shape\n",
    "\n",
    "run_count = 0\n",
    "models = []\n",
    "\n",
    "\n",
    "run_data = []\n",
    "\n",
    "data_load_time = 0\n",
    "forward_time = 0\n",
    "\n",
    "\n",
    "for run in RunBuilder.get_runs(params):\n",
    "#     torch.cuda.set_device(run.device)\n",
    "    \n",
    "    run_count += 1\n",
    "    device = torch.device(run.device)\n",
    "    \n",
    "    dgcca = AE_DGCCA(num_views=len(mat), \n",
    "                     input_size=mat[0].shape[-1],\n",
    "                     output_size=run.latent_dim,\n",
    "                     network=AELinear,\n",
    "                     use_relu=True,\n",
    "                     use_batch_norm=True)\n",
    "    dgcca = dgcca.to('cpu')\n",
    "    \n",
    "    train_views = [item.to('cpu') for item in mat]\n",
    "    \n",
    "    optimizer = torch.optim.Adam(dgcca.parameters(), lr=run.lr)\n",
    "    criterion = run.loss_func()\n",
    "\n",
    "    out = torch.stack(dgcca(train_views))\n",
    "    G = g_step(out.clone().detach())  \n",
    "    G_serv = G.clone()\n",
    "    M_serv = out.detach().clone()\n",
    "    \n",
    "    I = len(train_views)\n",
    "    \n",
    "    for epoch in trange(250):\n",
    "        total_recons_loss = 0\n",
    "        batch_count = 0\n",
    "        total_dgcca_loss = 0\n",
    "        \n",
    "        dgcca.to('cuda')\n",
    "        \n",
    "        for _ in range(run.num_inner_epochs):\n",
    "\n",
    "            optimizer.zero_grad()\n",
    "            batch = []\n",
    "\n",
    "            # full gradient\n",
    "            batch = [item.to(device) for item in train_views]\n",
    "            target = G.to(device)\n",
    "            \n",
    "            latent = dgcca(batch)\n",
    "\n",
    "            ae_loss = 100*(run.latent_dim/(2*511*target.shape[0]))*torch.norm(torch.stack(dgcca.decode(latent)) - torch.stack(batch))\n",
    "\n",
    "            dgcca_loss = 1/2*torch.norm(torch.stack(latent)-target)/target.shape[0] \n",
    "\n",
    "            loss = dgcca_loss #+ ae_loss\n",
    "\n",
    "            loss.backward()\n",
    "\n",
    "            optimizer.step()\n",
    "\n",
    "            total_recons_loss += ae_loss.item()\n",
    "            total_dgcca_loss += dgcca_loss.item()\n",
    "            del batch, target, latent\n",
    "\n",
    "        dgcca.to('cpu')\n",
    "        out = torch.stack(dgcca(train_views)).detach().clone()        \n",
    "        if run.quant:\n",
    "            for i in range(I):\n",
    "                diff = out[i] - M_serv[i]\n",
    "                max_val = diff.abs().max()\n",
    "                if run.rand_compress:\n",
    "                    quant = qsgd(diff, n_bits=run.n_bits)\n",
    "                else:\n",
    "                    quant = ((1/max_val)*diff).round()*(max_val/1)    \n",
    "                var = M_serv[i] + quant\n",
    "                M_serv[i] = var\n",
    "                M_serv[i] -= M_serv[i].mean(dim=0)\n",
    "                del max_val, diff, quant, var\n",
    "            G = g_step(M_serv.clone().detach())\n",
    "            G_serv = G_serv + qsgd(G-G_serv)\n",
    "        else:\n",
    "            out = out- out.mean(dim=1).unsqueeze(dim=1)\n",
    "            G = g_step(out.clone().detach())   \n",
    "        del out\n",
    "        dgcca.train()\n",
    "        \n",
    "        \n",
    "        results = OrderedDict()\n",
    "        results['epoch'] = epoch\n",
    "        results['recons_loss'] = total_recons_loss/(run.num_inner_epochs)\n",
    "        results['dgcca_loss'] = total_dgcca_loss/(run.num_inner_epochs)\n",
    "        results['lr'] = run.lr\n",
    "\n",
    "        run_data.append(results)\n",
    "        df3 = pd.DataFrame.from_dict(run_data, orient='columns')\n",
    "        clear_output(wait=True)\n",
    "        display(df3)\n",
    "\n",
    "        torch.save(dgcca, args['model_dest'])\n",
    "        "
   ]
  },
  {
   "cell_type": "code",
   "execution_count": 111,
   "id": "unauthorized-industry",
   "metadata": {},
   "outputs": [
    {
     "data": {
      "text/plain": [
       "torch.Size([3, 861, 511])"
      ]
     },
     "execution_count": 111,
     "metadata": {},
     "output_type": "execute_result"
    }
   ],
   "source": [
    "mat.shape"
   ]
  },
  {
   "cell_type": "code",
   "execution_count": 101,
   "id": "unlikely-token",
   "metadata": {},
   "outputs": [
    {
     "ename": "NameError",
     "evalue": "name 'out' is not defined",
     "output_type": "error",
     "traceback": [
      "\u001b[0;31m---------------------------------------------------------------------------\u001b[0m",
      "\u001b[0;31mNameError\u001b[0m                                 Traceback (most recent call last)",
      "\u001b[0;32m<ipython-input-101-9bc27bdc8279>\u001b[0m in \u001b[0;36m<module>\u001b[0;34m\u001b[0m\n\u001b[0;32m----> 1\u001b[0;31m \u001b[0mout\u001b[0m\u001b[0;34m\u001b[0m\u001b[0;34m\u001b[0m\u001b[0m\n\u001b[0m",
      "\u001b[0;31mNameError\u001b[0m: name 'out' is not defined"
     ]
    }
   ],
   "source": [
    "out"
   ]
  },
  {
   "cell_type": "code",
   "execution_count": 91,
   "id": "bright-punishment",
   "metadata": {},
   "outputs": [
    {
     "data": {
      "text/plain": [
       "tensor(23808.)"
      ]
     },
     "execution_count": 91,
     "metadata": {},
     "output_type": "execute_result"
    }
   ],
   "source": [
    "mat[0].max()"
   ]
  },
  {
   "cell_type": "code",
   "execution_count": 93,
   "id": "static-product",
   "metadata": {},
   "outputs": [
    {
     "data": {
      "text/plain": [
       "tensor(7.1794)"
      ]
     },
     "execution_count": 93,
     "metadata": {},
     "output_type": "execute_result"
    }
   ],
   "source": [
    "mat[0].mean()"
   ]
  },
  {
   "cell_type": "code",
   "execution_count": 96,
   "id": "regulated-bangkok",
   "metadata": {},
   "outputs": [
    {
     "data": {
      "text/plain": [
       "tensor(23908.)"
      ]
     },
     "execution_count": 96,
     "metadata": {},
     "output_type": "execute_result"
    }
   ],
   "source": [
    "mat[2].max()"
   ]
  },
  {
   "cell_type": "markdown",
   "id": "satisfied-lincoln",
   "metadata": {},
   "source": [
    "## Clustering Acc"
   ]
  },
  {
   "cell_type": "code",
   "execution_count": 5,
   "id": "southwest-butterfly",
   "metadata": {},
   "outputs": [],
   "source": [
    "# Latent Representation\n",
    "from dgcca.utils.clustering import *\n",
    "\n",
    "def get_clustering_acc(n_clusters=10, gamma=5, random_state=150, latent_repr = None, test_classes=None):\n",
    "    assert latent_repr is not None\n",
    "    pred = SpectralClustering(n_clusters=n_clusters, gamma=gamma, random_state=random_state).fit_predict(latent_repr)\n",
    "\n",
    "    cluster_map = cluster_permutation_map(pred, test_classes.numpy())\n",
    "    mapped_labels = map(pred, cluster_map)\n",
    "    acc = delta_sum(mapped_labels, test_classes[:3000].numpy())/ len(pred)\n",
    "    return acc\n"
   ]
  },
  {
   "cell_type": "code",
   "execution_count": 147,
   "id": "abstract-antenna",
   "metadata": {},
   "outputs": [
    {
     "data": {
      "text/plain": [
       "0.3947730398899587"
      ]
     },
     "execution_count": 147,
     "metadata": {},
     "output_type": "execute_result"
    }
   ],
   "source": [
    "get_clustering_acc(n_clusters=6, latent_repr=x_trunc, test_classes=y_trunc)"
   ]
  },
  {
   "cell_type": "code",
   "execution_count": 142,
   "id": "infinite-baptist",
   "metadata": {},
   "outputs": [
    {
     "data": {
      "text/plain": [
       "tensor([ 3,  3,  3,  3,  3,  3,  3,  3,  3,  3,  3,  3,  3,  3,  3,  3,  3,  3,\n",
       "         3,  3,  3,  3,  3,  3,  3,  3,  3,  3,  3,  3,  3,  3,  3,  3,  3,  3,\n",
       "         3,  3,  3,  3,  3,  3,  3,  3,  3,  3,  3,  3,  3,  3,  3,  3,  3,  3,\n",
       "         3,  3,  3,  3,  3,  3,  3,  3,  3,  3,  3,  3,  3,  3,  3,  3,  3,  3,\n",
       "         3,  3,  3,  3,  3,  3,  3,  3,  3,  3,  3,  3,  3,  3,  3,  3,  3,  3,\n",
       "         3,  3,  3,  3,  3,  3,  3,  3,  3,  3,  3,  3,  6,  6,  6,  6,  6,  6,\n",
       "         6,  6,  6,  6,  6,  6,  6,  6,  6,  6,  6,  6,  6,  6,  6,  6,  6,  6,\n",
       "         6,  6,  6,  6,  6,  6,  6,  6,  6,  6,  6,  6,  6,  6,  6,  6,  6,  6,\n",
       "         6,  6,  6,  6,  6,  6,  6,  6,  6,  6,  6,  6,  6,  6,  6,  6,  6,  6,\n",
       "         6,  6,  6,  6,  6,  6,  6,  6,  6,  6,  6,  6,  6,  6,  6,  6,  6,  6,\n",
       "         6,  6,  6,  6,  6,  6,  6,  6,  6,  6,  6,  6,  6,  6,  6,  6,  6,  6,\n",
       "         6,  6,  6,  6,  6,  6,  6,  7,  7,  7,  7,  7,  7,  7,  7,  7,  7,  7,\n",
       "         7,  7,  7,  7,  7,  7,  7,  7,  7,  7,  7,  7,  7,  7,  7,  7,  7,  7,\n",
       "         7,  7,  7,  7,  7,  7,  7,  7,  7,  7,  7,  7,  7,  7,  7,  7,  7,  7,\n",
       "         7,  7,  9,  9,  9,  9,  9,  9,  9,  9,  9,  9,  9,  9,  9,  9,  9,  9,\n",
       "         9,  9,  9,  9,  9,  9,  9,  9,  9,  9,  9,  9,  9,  9,  9,  9,  9,  9,\n",
       "         9,  9,  9,  9,  9,  9,  9,  9,  9,  9,  9,  9,  9,  9,  9,  9,  9,  9,\n",
       "         9,  9,  9,  9,  9,  9,  9,  9,  9,  9,  9,  9,  9, 12, 12, 12, 12, 12,\n",
       "        12, 12, 12, 12, 12, 12, 12, 12, 12, 12, 12, 12, 12, 12, 12, 12, 12, 12,\n",
       "        12, 12, 12, 12, 12, 12, 12, 12, 12, 12, 12, 12, 12, 12, 12, 12, 12, 12,\n",
       "        12, 12, 12, 12, 12, 12, 12, 12, 12, 12, 12, 12, 12, 12, 12, 12, 12, 12,\n",
       "        12, 12, 12, 12, 12, 12, 12, 12, 12, 12, 12, 12, 12, 12, 12, 12, 12, 12,\n",
       "        12, 12, 12, 12, 12, 12, 12, 12, 12, 12, 12, 12, 12, 12, 12, 12, 12, 12,\n",
       "        12, 12, 12, 12, 12, 12, 12, 12, 12, 12, 12, 12, 12, 12, 12, 12, 12, 12,\n",
       "        12, 12, 12, 12, 12, 12, 12, 12, 12, 12, 12, 12, 12, 12, 12, 18, 18, 18,\n",
       "        18, 18, 18, 18, 18, 18, 18, 18, 18, 18, 18, 18, 18, 18, 18, 18, 18, 18,\n",
       "        18, 18, 18, 18, 18, 18, 18, 18, 18, 18, 18, 18, 18, 18, 18, 18, 18, 18,\n",
       "        18, 18, 18, 18, 18, 18, 18, 18, 18, 18, 18, 18, 18, 18, 18, 18, 18, 18,\n",
       "        18, 18, 18, 18, 18, 18, 18, 18, 18, 18, 18, 18, 18, 18, 18, 18, 18, 18,\n",
       "        18, 18, 18, 18, 18, 18, 18, 18, 18, 18, 18, 18, 18, 18, 18, 18, 18, 18,\n",
       "        18, 18, 18, 18, 18, 18, 18, 18, 18, 18, 18, 18, 18, 18, 18, 18, 18, 18,\n",
       "        18, 18, 18, 18, 18, 18, 18, 18, 18, 18, 18, 18, 18, 18, 18, 18, 18, 18,\n",
       "        18, 18, 18, 18, 18, 18, 18, 18, 18, 18, 18, 18, 18, 18, 18, 18, 18, 18,\n",
       "        18, 18, 18, 18, 18, 18, 18, 18, 18, 18, 18, 18, 18, 18, 18, 18, 18, 18,\n",
       "        18, 18, 18, 18, 18, 18, 18, 18, 18, 18, 18, 18, 18, 18, 18, 18, 18, 18,\n",
       "        18, 18, 18, 18, 18, 18, 18, 18, 18, 18, 18, 18, 18, 18, 18, 18, 18, 18,\n",
       "        18, 18, 18, 18, 18, 18, 18, 18, 18, 18, 18, 18, 18, 18, 18, 18, 18, 18,\n",
       "        18, 18, 18, 18, 18, 18, 18, 18, 18, 18, 18, 18, 18, 18, 18, 18, 18, 18,\n",
       "        18, 18, 18, 18, 18, 18, 18, 18, 18, 18, 18, 18, 18, 18, 18, 18, 18, 18,\n",
       "        18, 18, 18, 18, 18, 18, 18, 18, 18, 18, 18, 18, 18, 18, 18, 18, 18, 18,\n",
       "        18, 18, 18, 18, 18, 18, 18])"
      ]
     },
     "execution_count": 142,
     "metadata": {},
     "output_type": "execute_result"
    }
   ],
   "source": [
    "y_trunc"
   ]
  },
  {
   "cell_type": "code",
   "execution_count": null,
   "id": "hourly-aquatic",
   "metadata": {},
   "outputs": [],
   "source": []
  },
  {
   "cell_type": "code",
   "execution_count": null,
   "id": "restricted-accreditation",
   "metadata": {},
   "outputs": [],
   "source": []
  },
  {
   "cell_type": "code",
   "execution_count": 2,
   "id": "growing-holly",
   "metadata": {},
   "outputs": [],
   "source": [
    "from dgcca.ehr.dataset_ehr import *\n",
    "ehr_dataset = EhrDataset(data_file='/scratch/sagar/Projects/federated_max_var_gcca/ehr/data/diag_med_1045',\n",
    "                         shuffle=True)\n",
    "all_data = list(ehr_dataset.x)\n",
    "mat = ehr_dataset.x"
   ]
  },
  {
   "cell_type": "code",
   "execution_count": 3,
   "id": "representative-certification",
   "metadata": {},
   "outputs": [
    {
     "data": {
      "text/plain": [
       "torch.Size([1045, 511])"
      ]
     },
     "execution_count": 3,
     "metadata": {},
     "output_type": "execute_result"
    }
   ],
   "source": [
    "mat[0].shape"
   ]
  },
  {
   "cell_type": "code",
   "execution_count": null,
   "id": "excess-maximum",
   "metadata": {},
   "outputs": [],
   "source": []
  },
  {
   "cell_type": "code",
   "execution_count": 56,
   "id": "hybrid-protection",
   "metadata": {},
   "outputs": [],
   "source": [
    "def get_diagnosis_classes_list_from_dict(filename=None, data=None):\n",
    "    \"\"\"\n",
    "    Get CMS classes from the ordered dictionary with keys as tuple of (diagnosis, category2)\n",
    "    returns a list of classes index\n",
    "    \"\"\"\n",
    "    if filename is not None:\n",
    "        _, data = torch.load(filename)\n",
    "\n",
    "    if isinstance(data, list):\n",
    "        data = data[0]\n",
    "    \n",
    "    classes = []\n",
    "    cl_list = ((100, 139), \n",
    "            (140, 239), \n",
    "            (240, 289),\n",
    "            (290, 319),\n",
    "            (320, 389),\n",
    "            (390, 459), \n",
    "            (460, 519),\n",
    "            (520, 579),\n",
    "            (580, 629),\n",
    "            (630, 679),\n",
    "            (680, 709),\n",
    "            (710, 739),\n",
    "            (740, 759),\n",
    "            (760, 779),\n",
    "            (780, 799),\n",
    "            (800, 999))\n",
    "\n",
    "    keys = list(data.keys())\n",
    "    num_rows = data[keys[-1]][0]+1\n",
    "    num_cols = data[keys[-1]][1]+1\n",
    "    classes = [0]*num_rows\n",
    "    for i in range(num_rows):\n",
    "        if keys[i*num_cols][0].startswith('0'):\n",
    "            classes[i] = 1\n",
    "        elif keys[i*num_cols][0].startswith('E'):\n",
    "            classes[i] = 17\n",
    "        elif keys[i*num_cols][0].startswith('V'):\n",
    "            classes[i] = 18\n",
    "        else:\n",
    "            num = int(keys[i*num_cols][0][:3])\n",
    "            for j in range(len(cl_list)):\n",
    "                if num >= cl_list[j][0] and num <= cl_list[j][1]:\n",
    "                    classes[i] = j+1\n",
    "    return classes\n",
    "\n",
    "classes = get_diagnosis_classes_list_from_dict(filename='/scratch/sagar/Projects/federated_max_var_gcca/ehr/data/dictionary_data/combined_views')"
   ]
  },
  {
   "cell_type": "code",
   "execution_count": 13,
   "id": "floppy-egypt",
   "metadata": {},
   "outputs": [],
   "source": [
    "torch.save((mat, classes), \"/scratch/sagar/Projects/federated_max_var_gcca/ehr/data/diag_pr_520\")"
   ]
  },
  {
   "cell_type": "code",
   "execution_count": 38,
   "id": "immediate-ceramic",
   "metadata": {},
   "outputs": [],
   "source": [
    "def redefine_features(filename=None):\n",
    "    \"\"\"\n",
    "    Get CMS classes from the ordered dictionary with keys as tuple of (diagnosis, category2)\n",
    "    returns a list of classes index\n",
    "    \"\"\"\n",
    "    filename='/scratch/sagar/Projects/federated_max_var_gcca/ehr/data/dictionary_data/combined_views'\n",
    "    mat, data = torch.load(filename)\n",
    "    num_classes = 18\n",
    "    new_mat = torch.zeros(len(mat), mat[0].shape[0], num_classes)\n",
    "    if isinstance(data, list):\n",
    "        data = data[0]\n",
    "\n",
    "    classes = []\n",
    "    cl_list = ((100, 139), \n",
    "            (140, 239), \n",
    "            (240, 289),\n",
    "            (290, 319),\n",
    "            (320, 389),\n",
    "            (390, 459), \n",
    "            (460, 519),\n",
    "            (520, 579),\n",
    "            (580, 629),\n",
    "            (630, 679),\n",
    "            (680, 709),\n",
    "            (710, 739),\n",
    "            (740, 759),\n",
    "            (760, 779),\n",
    "            (780, 799),\n",
    "            (800, 999))\n",
    "\n",
    "    keys = list(data.keys())\n",
    "    num_rows = data[keys[-1]][0]+1\n",
    "    num_cols = data[keys[-1]][1]+1\n",
    "    classes = [[] for i in range(num_classes)]\n",
    "    #     classes = [0]*num_rows\n",
    "\n",
    "    for i in range(num_cols):\n",
    "\n",
    "        if keys[i][1].startswith('0'):\n",
    "            classes[0].append(i)\n",
    "        elif keys[i][1].startswith('E'):\n",
    "            classes[16].append(i)\n",
    "        elif keys[i][1].startswith('V'):\n",
    "            classes[17].append(i)\n",
    "        else:\n",
    "            num = int(keys[i][1][:3])\n",
    "            for j in range(len(cl_list)):\n",
    "                if num >= cl_list[j][0] and num <= cl_list[j][1]:\n",
    "                    classes[j].append(i)\n",
    "    for view in range(len(mat)):\n",
    "        for cl in range(num_classes):\n",
    "            new_mat[view,:,cl] = mat[view][:,classes[cl]].sum(dim=-1)\n",
    "\n",
    "    return new_mat\n",
    "\n",
    "new_mat = redefine_features(filename='/scratch/sagar/Projects/federated_max_var_gcca/ehr/data/dictionary_data/combined_views')"
   ]
  }
 ],
 "metadata": {
  "kernelspec": {
   "display_name": "Python 3",
   "language": "python",
   "name": "python3"
  },
  "language_info": {
   "codemirror_mode": {
    "name": "ipython",
    "version": 3
   },
   "file_extension": ".py",
   "mimetype": "text/x-python",
   "name": "python",
   "nbconvert_exporter": "python",
   "pygments_lexer": "ipython3",
   "version": "3.6.8"
  }
 },
 "nbformat": 4,
 "nbformat_minor": 5
}
